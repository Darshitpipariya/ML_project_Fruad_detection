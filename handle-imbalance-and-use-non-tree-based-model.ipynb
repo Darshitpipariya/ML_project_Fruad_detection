{
 "cells": [
  {
   "cell_type": "code",
   "execution_count": 1,
   "id": "adbd4673",
   "metadata": {
    "_cell_guid": "4ad6077c-6344-48f7-ab0c-653dd666dea3",
    "_uuid": "6ceadd7f-23e9-455f-ade0-6d5e538f3973",
    "collapsed": false,
    "execution": {
     "iopub.execute_input": "2022-11-11T11:17:39.875487Z",
     "iopub.status.busy": "2022-11-11T11:17:39.874102Z",
     "iopub.status.idle": "2022-11-11T11:17:41.332804Z",
     "shell.execute_reply": "2022-11-11T11:17:41.330939Z"
    },
    "jupyter": {
     "outputs_hidden": false
    },
    "papermill": {
     "duration": 1.475475,
     "end_time": "2022-11-11T11:17:41.336587",
     "exception": false,
     "start_time": "2022-11-11T11:17:39.861112",
     "status": "completed"
    },
    "tags": []
   },
   "outputs": [
    {
     "name": "stdout",
     "output_type": "stream",
     "text": [
      "/kaggle/input/transaction-fruad/Train_without_Data_balancing.csv\n",
      "/kaggle/input/transaction-fruad/Test_without_Data_balancing.csv\n",
      "/kaggle/input/its-a-fraud/train.csv\n",
      "/kaggle/input/its-a-fraud/test.csv\n",
      "/kaggle/input/its-a-fraud/mock_submission.csv\n"
     ]
    }
   ],
   "source": [
    "# This Python 3 environment comes with many helpful analytics libraries installed\n",
    "# It is defined by the kaggle/python Docker image: https://github.com/kaggle/docker-python\n",
    "# For example, here's several helpful packages to load\n",
    "\n",
    "import numpy as np # linear algebra\n",
    "import pandas as pd # data processing, CSV file I/O (e.g. pd.read_csv)\n",
    "import matplotlib.pyplot as plt\n",
    "import seaborn as sns\n",
    "from sklearn import metrics\n",
    "from sklearn.metrics import classification_report # for model evaluation metrics\n",
    "\n",
    "# Input data files are available in the read-only \"../input/\" directory\n",
    "# For example, running this (by clicking run or pressing Shift+Enter) will list all files under the input directory\n",
    "\n",
    "import os\n",
    "for dirname, _, filenames in os.walk('/kaggle/input'):\n",
    "    for filename in filenames:\n",
    "        print(os.path.join(dirname, filename))\n",
    "\n",
    "# You can write up to 20GB to the current directory (/kaggle/working/) that gets preserved as output when you create a version using \"Save & Run All\" \n",
    "# You can also write temporary files to /kaggle/temp/, but they won't be saved outside of the current session"
   ]
  },
  {
   "cell_type": "code",
   "execution_count": 2,
   "id": "ef096bd2",
   "metadata": {
    "execution": {
     "iopub.execute_input": "2022-11-11T11:17:41.359916Z",
     "iopub.status.busy": "2022-11-11T11:17:41.358996Z",
     "iopub.status.idle": "2022-11-11T11:17:41.365076Z",
     "shell.execute_reply": "2022-11-11T11:17:41.363818Z"
    },
    "papermill": {
     "duration": 0.017776,
     "end_time": "2022-11-11T11:17:41.367326",
     "exception": false,
     "start_time": "2022-11-11T11:17:41.349550",
     "status": "completed"
    },
    "tags": []
   },
   "outputs": [],
   "source": [
    "import warnings\n",
    "warnings.filterwarnings('ignore')"
   ]
  },
  {
   "cell_type": "code",
   "execution_count": 3,
   "id": "3719136d",
   "metadata": {
    "execution": {
     "iopub.execute_input": "2022-11-11T11:17:41.384965Z",
     "iopub.status.busy": "2022-11-11T11:17:41.384414Z",
     "iopub.status.idle": "2022-11-11T11:17:41.390702Z",
     "shell.execute_reply": "2022-11-11T11:17:41.389227Z"
    },
    "papermill": {
     "duration": 0.017845,
     "end_time": "2022-11-11T11:17:41.393162",
     "exception": false,
     "start_time": "2022-11-11T11:17:41.375317",
     "status": "completed"
    },
    "tags": []
   },
   "outputs": [],
   "source": [
    "pd.set_option('display.max_columns', None)\n",
    "pd.set_option('display.max_rows', None)"
   ]
  },
  {
   "cell_type": "code",
   "execution_count": 4,
   "id": "3d9af362",
   "metadata": {
    "execution": {
     "iopub.execute_input": "2022-11-11T11:17:41.411911Z",
     "iopub.status.busy": "2022-11-11T11:17:41.410550Z",
     "iopub.status.idle": "2022-11-11T11:17:53.382840Z",
     "shell.execute_reply": "2022-11-11T11:17:53.380767Z"
    },
    "papermill": {
     "duration": 11.98514,
     "end_time": "2022-11-11T11:17:53.386202",
     "exception": false,
     "start_time": "2022-11-11T11:17:41.401062",
     "status": "completed"
    },
    "tags": []
   },
   "outputs": [],
   "source": [
    "train=pd.read_csv(\"../input/transaction-fruad/Train_without_Data_balancing.csv\")\n",
    "train=train.drop(train.columns[0],axis=1)"
   ]
  },
  {
   "cell_type": "code",
   "execution_count": 5,
   "id": "64527de4",
   "metadata": {
    "execution": {
     "iopub.execute_input": "2022-11-11T11:17:53.403925Z",
     "iopub.status.busy": "2022-11-11T11:17:53.403464Z",
     "iopub.status.idle": "2022-11-11T11:17:53.556264Z",
     "shell.execute_reply": "2022-11-11T11:17:53.554816Z"
    },
    "papermill": {
     "duration": 0.165739,
     "end_time": "2022-11-11T11:17:53.559849",
     "exception": false,
     "start_time": "2022-11-11T11:17:53.394110",
     "status": "completed"
    },
    "tags": []
   },
   "outputs": [
    {
     "data": {
      "text/html": [
       "<div>\n",
       "<style scoped>\n",
       "    .dataframe tbody tr th:only-of-type {\n",
       "        vertical-align: middle;\n",
       "    }\n",
       "\n",
       "    .dataframe tbody tr th {\n",
       "        vertical-align: top;\n",
       "    }\n",
       "\n",
       "    .dataframe thead th {\n",
       "        text-align: right;\n",
       "    }\n",
       "</style>\n",
       "<table border=\"1\" class=\"dataframe\">\n",
       "  <thead>\n",
       "    <tr style=\"text-align: right;\">\n",
       "      <th></th>\n",
       "      <th>isFraud</th>\n",
       "      <th>TransactionAmt</th>\n",
       "      <th>card1</th>\n",
       "      <th>card2</th>\n",
       "      <th>card3</th>\n",
       "      <th>card5</th>\n",
       "      <th>addr1</th>\n",
       "      <th>addr2</th>\n",
       "      <th>C1</th>\n",
       "      <th>C3</th>\n",
       "      <th>C5</th>\n",
       "      <th>C13</th>\n",
       "      <th>D1</th>\n",
       "      <th>D4</th>\n",
       "      <th>D10</th>\n",
       "      <th>D15</th>\n",
       "      <th>M6</th>\n",
       "      <th>V12</th>\n",
       "      <th>V14</th>\n",
       "      <th>V15</th>\n",
       "      <th>V17</th>\n",
       "      <th>V19</th>\n",
       "      <th>V23</th>\n",
       "      <th>V24</th>\n",
       "      <th>V25</th>\n",
       "      <th>V26</th>\n",
       "      <th>V27</th>\n",
       "      <th>V29</th>\n",
       "      <th>V35</th>\n",
       "      <th>V37</th>\n",
       "      <th>V38</th>\n",
       "      <th>V39</th>\n",
       "      <th>V41</th>\n",
       "      <th>V42</th>\n",
       "      <th>V44</th>\n",
       "      <th>V46</th>\n",
       "      <th>V47</th>\n",
       "      <th>V48</th>\n",
       "      <th>V53</th>\n",
       "      <th>V55</th>\n",
       "      <th>V56</th>\n",
       "      <th>V59</th>\n",
       "      <th>V61</th>\n",
       "      <th>V62</th>\n",
       "      <th>V65</th>\n",
       "      <th>V66</th>\n",
       "      <th>V67</th>\n",
       "      <th>V68</th>\n",
       "      <th>V75</th>\n",
       "      <th>V77</th>\n",
       "      <th>V78</th>\n",
       "      <th>V80</th>\n",
       "      <th>V82</th>\n",
       "      <th>V83</th>\n",
       "      <th>V86</th>\n",
       "      <th>V87</th>\n",
       "      <th>V88</th>\n",
       "      <th>V89</th>\n",
       "      <th>V95</th>\n",
       "      <th>V98</th>\n",
       "      <th>V99</th>\n",
       "      <th>V100</th>\n",
       "      <th>V104</th>\n",
       "      <th>V107</th>\n",
       "      <th>V108</th>\n",
       "      <th>V109</th>\n",
       "      <th>V110</th>\n",
       "      <th>V111</th>\n",
       "      <th>V112</th>\n",
       "      <th>V114</th>\n",
       "      <th>V115</th>\n",
       "      <th>V116</th>\n",
       "      <th>V117</th>\n",
       "      <th>V118</th>\n",
       "      <th>V119</th>\n",
       "      <th>V120</th>\n",
       "      <th>V121</th>\n",
       "      <th>V122</th>\n",
       "      <th>V123</th>\n",
       "      <th>V124</th>\n",
       "      <th>V125</th>\n",
       "      <th>V129</th>\n",
       "      <th>V130</th>\n",
       "      <th>V131</th>\n",
       "      <th>V135</th>\n",
       "      <th>V136</th>\n",
       "      <th>V281</th>\n",
       "      <th>V282</th>\n",
       "      <th>V283</th>\n",
       "      <th>V284</th>\n",
       "      <th>V285</th>\n",
       "      <th>V286</th>\n",
       "      <th>V287</th>\n",
       "      <th>V288</th>\n",
       "      <th>V289</th>\n",
       "      <th>V290</th>\n",
       "      <th>V291</th>\n",
       "      <th>V300</th>\n",
       "      <th>V302</th>\n",
       "      <th>V303</th>\n",
       "      <th>V305</th>\n",
       "      <th>V310</th>\n",
       "      <th>V311</th>\n",
       "      <th>V312</th>\n",
       "      <th>V313</th>\n",
       "      <th>V314</th>\n",
       "      <th>V319</th>\n",
       "      <th>V320</th>\n",
       "      <th>ProductCD_is_H</th>\n",
       "      <th>ProductCD_is_R</th>\n",
       "      <th>ProductCD_is_S</th>\n",
       "      <th>ProductCD_is_W</th>\n",
       "      <th>card4_is_american express</th>\n",
       "      <th>card4_is_discover</th>\n",
       "      <th>card4_is_mastercard</th>\n",
       "      <th>card6_is_charge card</th>\n",
       "      <th>card6_is_credit</th>\n",
       "      <th>card6_is_debit or credit</th>\n",
       "      <th>P_emaildomain_is_aim.com</th>\n",
       "      <th>P_emaildomain_is_anonymous.com</th>\n",
       "      <th>P_emaildomain_is_aol.com</th>\n",
       "      <th>P_emaildomain_is_att.net</th>\n",
       "      <th>P_emaildomain_is_bellsouth.net</th>\n",
       "      <th>P_emaildomain_is_cableone.net</th>\n",
       "      <th>P_emaildomain_is_centurylink.net</th>\n",
       "      <th>P_emaildomain_is_charter.net</th>\n",
       "      <th>P_emaildomain_is_comcast.net</th>\n",
       "      <th>P_emaildomain_is_cox.net</th>\n",
       "      <th>P_emaildomain_is_earthlink.net</th>\n",
       "      <th>P_emaildomain_is_embarqmail.com</th>\n",
       "      <th>P_emaildomain_is_frontier.com</th>\n",
       "      <th>P_emaildomain_is_frontiernet.net</th>\n",
       "      <th>P_emaildomain_is_gmail</th>\n",
       "      <th>P_emaildomain_is_gmail.com</th>\n",
       "      <th>P_emaildomain_is_goodmail</th>\n",
       "      <th>P_emaildomain_is_hotmail.com</th>\n",
       "      <th>P_emaildomain_is_hotmail.es</th>\n",
       "      <th>P_emaildomain_is_hotmail.fr</th>\n",
       "      <th>P_emaildomain_is_icloud.com</th>\n",
       "      <th>P_emaildomain_is_juno.com</th>\n",
       "      <th>P_emaildomain_is_live.com</th>\n",
       "      <th>P_emaildomain_is_live.com.mx</th>\n",
       "      <th>P_emaildomain_is_live.fr</th>\n",
       "      <th>P_emaildomain_is_mac.com</th>\n",
       "      <th>P_emaildomain_is_mail.com</th>\n",
       "      <th>P_emaildomain_is_me.com</th>\n",
       "      <th>P_emaildomain_is_msn.com</th>\n",
       "      <th>P_emaildomain_is_netzero.net</th>\n",
       "      <th>P_emaildomain_is_optonline.net</th>\n",
       "      <th>P_emaildomain_is_outlook.com</th>\n",
       "      <th>P_emaildomain_is_outlook.es</th>\n",
       "      <th>P_emaildomain_is_prodigy.net.mx</th>\n",
       "      <th>P_emaildomain_is_protonmail.com</th>\n",
       "      <th>P_emaildomain_is_q.com</th>\n",
       "      <th>P_emaildomain_is_roadrunner.com</th>\n",
       "      <th>P_emaildomain_is_rocketmail.com</th>\n",
       "      <th>P_emaildomain_is_sbcglobal.net</th>\n",
       "      <th>P_emaildomain_is_sc.rr.com</th>\n",
       "      <th>P_emaildomain_is_suddenlink.net</th>\n",
       "      <th>P_emaildomain_is_verizon.net</th>\n",
       "      <th>P_emaildomain_is_yahoo.com</th>\n",
       "      <th>P_emaildomain_is_yahoo.com.mx</th>\n",
       "      <th>P_emaildomain_is_yahoo.de</th>\n",
       "      <th>P_emaildomain_is_yahoo.es</th>\n",
       "      <th>P_emaildomain_is_yahoo.fr</th>\n",
       "      <th>P_emaildomain_is_ymail.com</th>\n",
       "    </tr>\n",
       "  </thead>\n",
       "  <tbody>\n",
       "    <tr>\n",
       "      <th>0</th>\n",
       "      <td>0.0</td>\n",
       "      <td>49.00</td>\n",
       "      <td>5033</td>\n",
       "      <td>269.0</td>\n",
       "      <td>150.0</td>\n",
       "      <td>224.0</td>\n",
       "      <td>330.0</td>\n",
       "      <td>87.0</td>\n",
       "      <td>2.0</td>\n",
       "      <td>0.0</td>\n",
       "      <td>0.0</td>\n",
       "      <td>21.0</td>\n",
       "      <td>14.0</td>\n",
       "      <td>370.0</td>\n",
       "      <td>14.0</td>\n",
       "      <td>375.0</td>\n",
       "      <td>0</td>\n",
       "      <td>1.0</td>\n",
       "      <td>1.0</td>\n",
       "      <td>0.0</td>\n",
       "      <td>0.0</td>\n",
       "      <td>1.0</td>\n",
       "      <td>1.0</td>\n",
       "      <td>1.0</td>\n",
       "      <td>1.0</td>\n",
       "      <td>1.0</td>\n",
       "      <td>0.0</td>\n",
       "      <td>0.0</td>\n",
       "      <td>0.0</td>\n",
       "      <td>1.0</td>\n",
       "      <td>1.0</td>\n",
       "      <td>0.0</td>\n",
       "      <td>1.0</td>\n",
       "      <td>0.0</td>\n",
       "      <td>1.0</td>\n",
       "      <td>1.0</td>\n",
       "      <td>1.0</td>\n",
       "      <td>0.0</td>\n",
       "      <td>1.0</td>\n",
       "      <td>1.0</td>\n",
       "      <td>1.0</td>\n",
       "      <td>0.0</td>\n",
       "      <td>1.0</td>\n",
       "      <td>1.0</td>\n",
       "      <td>1.0</td>\n",
       "      <td>1.0</td>\n",
       "      <td>1.0</td>\n",
       "      <td>0.0</td>\n",
       "      <td>0.0</td>\n",
       "      <td>1.0</td>\n",
       "      <td>1.0</td>\n",
       "      <td>0.0</td>\n",
       "      <td>1.0</td>\n",
       "      <td>2.0</td>\n",
       "      <td>1.0</td>\n",
       "      <td>1.0</td>\n",
       "      <td>1.0</td>\n",
       "      <td>0.0</td>\n",
       "      <td>0.0</td>\n",
       "      <td>0.0</td>\n",
       "      <td>2.0</td>\n",
       "      <td>0.0</td>\n",
       "      <td>0.0</td>\n",
       "      <td>1.0</td>\n",
       "      <td>1.0</td>\n",
       "      <td>1.0</td>\n",
       "      <td>1.0</td>\n",
       "      <td>1.0</td>\n",
       "      <td>1.0</td>\n",
       "      <td>1.0</td>\n",
       "      <td>1.0</td>\n",
       "      <td>1.0</td>\n",
       "      <td>1.0</td>\n",
       "      <td>1.0</td>\n",
       "      <td>1.0</td>\n",
       "      <td>1.0</td>\n",
       "      <td>1.0</td>\n",
       "      <td>1.0</td>\n",
       "      <td>1.0</td>\n",
       "      <td>1.0</td>\n",
       "      <td>1.0</td>\n",
       "      <td>0.0</td>\n",
       "      <td>98.0</td>\n",
       "      <td>0.00</td>\n",
       "      <td>0.00</td>\n",
       "      <td>0.00</td>\n",
       "      <td>0.0</td>\n",
       "      <td>1.0</td>\n",
       "      <td>2.0</td>\n",
       "      <td>0.0</td>\n",
       "      <td>2.0</td>\n",
       "      <td>0.0</td>\n",
       "      <td>0.0</td>\n",
       "      <td>1.0</td>\n",
       "      <td>2.0</td>\n",
       "      <td>1.0</td>\n",
       "      <td>1.0</td>\n",
       "      <td>0.0</td>\n",
       "      <td>0.0</td>\n",
       "      <td>0.0</td>\n",
       "      <td>1.0</td>\n",
       "      <td>98.0</td>\n",
       "      <td>0.0</td>\n",
       "      <td>0.00</td>\n",
       "      <td>49.00</td>\n",
       "      <td>98.0</td>\n",
       "      <td>0.00</td>\n",
       "      <td>0.00</td>\n",
       "      <td>0</td>\n",
       "      <td>0</td>\n",
       "      <td>0</td>\n",
       "      <td>1</td>\n",
       "      <td>0</td>\n",
       "      <td>0</td>\n",
       "      <td>1</td>\n",
       "      <td>0</td>\n",
       "      <td>0</td>\n",
       "      <td>0</td>\n",
       "      <td>0</td>\n",
       "      <td>0</td>\n",
       "      <td>0</td>\n",
       "      <td>0</td>\n",
       "      <td>0</td>\n",
       "      <td>0</td>\n",
       "      <td>0</td>\n",
       "      <td>0</td>\n",
       "      <td>0</td>\n",
       "      <td>0</td>\n",
       "      <td>0</td>\n",
       "      <td>0</td>\n",
       "      <td>0</td>\n",
       "      <td>0</td>\n",
       "      <td>0</td>\n",
       "      <td>1</td>\n",
       "      <td>0</td>\n",
       "      <td>0</td>\n",
       "      <td>0</td>\n",
       "      <td>0</td>\n",
       "      <td>0</td>\n",
       "      <td>0</td>\n",
       "      <td>0</td>\n",
       "      <td>0</td>\n",
       "      <td>0</td>\n",
       "      <td>0</td>\n",
       "      <td>0</td>\n",
       "      <td>0</td>\n",
       "      <td>0</td>\n",
       "      <td>0</td>\n",
       "      <td>0</td>\n",
       "      <td>0</td>\n",
       "      <td>0</td>\n",
       "      <td>0</td>\n",
       "      <td>0</td>\n",
       "      <td>0</td>\n",
       "      <td>0</td>\n",
       "      <td>0</td>\n",
       "      <td>0</td>\n",
       "      <td>0</td>\n",
       "      <td>0</td>\n",
       "      <td>0</td>\n",
       "      <td>0</td>\n",
       "      <td>0</td>\n",
       "      <td>0</td>\n",
       "      <td>0</td>\n",
       "      <td>0</td>\n",
       "      <td>0</td>\n",
       "    </tr>\n",
       "    <tr>\n",
       "      <th>1</th>\n",
       "      <td>0.0</td>\n",
       "      <td>57.95</td>\n",
       "      <td>4527</td>\n",
       "      <td>376.0</td>\n",
       "      <td>150.0</td>\n",
       "      <td>226.0</td>\n",
       "      <td>441.0</td>\n",
       "      <td>87.0</td>\n",
       "      <td>2.0</td>\n",
       "      <td>0.0</td>\n",
       "      <td>1.0</td>\n",
       "      <td>14.0</td>\n",
       "      <td>136.0</td>\n",
       "      <td>136.0</td>\n",
       "      <td>136.0</td>\n",
       "      <td>136.0</td>\n",
       "      <td>0</td>\n",
       "      <td>1.0</td>\n",
       "      <td>1.0</td>\n",
       "      <td>0.0</td>\n",
       "      <td>0.0</td>\n",
       "      <td>1.0</td>\n",
       "      <td>1.0</td>\n",
       "      <td>1.0</td>\n",
       "      <td>1.0</td>\n",
       "      <td>1.0</td>\n",
       "      <td>0.0</td>\n",
       "      <td>1.0</td>\n",
       "      <td>1.0</td>\n",
       "      <td>1.0</td>\n",
       "      <td>1.0</td>\n",
       "      <td>0.0</td>\n",
       "      <td>1.0</td>\n",
       "      <td>0.0</td>\n",
       "      <td>1.0</td>\n",
       "      <td>1.0</td>\n",
       "      <td>1.0</td>\n",
       "      <td>1.0</td>\n",
       "      <td>1.0</td>\n",
       "      <td>1.0</td>\n",
       "      <td>1.0</td>\n",
       "      <td>0.0</td>\n",
       "      <td>1.0</td>\n",
       "      <td>1.0</td>\n",
       "      <td>1.0</td>\n",
       "      <td>1.0</td>\n",
       "      <td>1.0</td>\n",
       "      <td>0.0</td>\n",
       "      <td>1.0</td>\n",
       "      <td>1.0</td>\n",
       "      <td>1.0</td>\n",
       "      <td>0.0</td>\n",
       "      <td>1.0</td>\n",
       "      <td>1.0</td>\n",
       "      <td>1.0</td>\n",
       "      <td>1.0</td>\n",
       "      <td>1.0</td>\n",
       "      <td>0.0</td>\n",
       "      <td>0.0</td>\n",
       "      <td>0.0</td>\n",
       "      <td>4.0</td>\n",
       "      <td>0.0</td>\n",
       "      <td>0.0</td>\n",
       "      <td>1.0</td>\n",
       "      <td>1.0</td>\n",
       "      <td>1.0</td>\n",
       "      <td>1.0</td>\n",
       "      <td>1.0</td>\n",
       "      <td>1.0</td>\n",
       "      <td>1.0</td>\n",
       "      <td>1.0</td>\n",
       "      <td>1.0</td>\n",
       "      <td>1.0</td>\n",
       "      <td>1.0</td>\n",
       "      <td>1.0</td>\n",
       "      <td>1.0</td>\n",
       "      <td>1.0</td>\n",
       "      <td>1.0</td>\n",
       "      <td>1.0</td>\n",
       "      <td>1.0</td>\n",
       "      <td>1.0</td>\n",
       "      <td>0.0</td>\n",
       "      <td>229.8</td>\n",
       "      <td>0.00</td>\n",
       "      <td>0.00</td>\n",
       "      <td>0.00</td>\n",
       "      <td>0.0</td>\n",
       "      <td>0.0</td>\n",
       "      <td>0.0</td>\n",
       "      <td>0.0</td>\n",
       "      <td>4.0</td>\n",
       "      <td>0.0</td>\n",
       "      <td>0.0</td>\n",
       "      <td>0.0</td>\n",
       "      <td>0.0</td>\n",
       "      <td>1.0</td>\n",
       "      <td>1.0</td>\n",
       "      <td>0.0</td>\n",
       "      <td>0.0</td>\n",
       "      <td>0.0</td>\n",
       "      <td>1.0</td>\n",
       "      <td>229.8</td>\n",
       "      <td>0.0</td>\n",
       "      <td>0.00</td>\n",
       "      <td>0.00</td>\n",
       "      <td>0.0</td>\n",
       "      <td>0.00</td>\n",
       "      <td>0.00</td>\n",
       "      <td>0</td>\n",
       "      <td>0</td>\n",
       "      <td>0</td>\n",
       "      <td>1</td>\n",
       "      <td>0</td>\n",
       "      <td>0</td>\n",
       "      <td>0</td>\n",
       "      <td>0</td>\n",
       "      <td>0</td>\n",
       "      <td>0</td>\n",
       "      <td>0</td>\n",
       "      <td>0</td>\n",
       "      <td>0</td>\n",
       "      <td>0</td>\n",
       "      <td>0</td>\n",
       "      <td>0</td>\n",
       "      <td>0</td>\n",
       "      <td>0</td>\n",
       "      <td>0</td>\n",
       "      <td>0</td>\n",
       "      <td>0</td>\n",
       "      <td>0</td>\n",
       "      <td>0</td>\n",
       "      <td>0</td>\n",
       "      <td>0</td>\n",
       "      <td>1</td>\n",
       "      <td>0</td>\n",
       "      <td>0</td>\n",
       "      <td>0</td>\n",
       "      <td>0</td>\n",
       "      <td>0</td>\n",
       "      <td>0</td>\n",
       "      <td>0</td>\n",
       "      <td>0</td>\n",
       "      <td>0</td>\n",
       "      <td>0</td>\n",
       "      <td>0</td>\n",
       "      <td>0</td>\n",
       "      <td>0</td>\n",
       "      <td>0</td>\n",
       "      <td>0</td>\n",
       "      <td>0</td>\n",
       "      <td>0</td>\n",
       "      <td>0</td>\n",
       "      <td>0</td>\n",
       "      <td>0</td>\n",
       "      <td>0</td>\n",
       "      <td>0</td>\n",
       "      <td>0</td>\n",
       "      <td>0</td>\n",
       "      <td>0</td>\n",
       "      <td>0</td>\n",
       "      <td>0</td>\n",
       "      <td>0</td>\n",
       "      <td>0</td>\n",
       "      <td>0</td>\n",
       "      <td>0</td>\n",
       "      <td>0</td>\n",
       "    </tr>\n",
       "    <tr>\n",
       "      <th>2</th>\n",
       "      <td>0.0</td>\n",
       "      <td>115.95</td>\n",
       "      <td>2772</td>\n",
       "      <td>512.0</td>\n",
       "      <td>150.0</td>\n",
       "      <td>226.0</td>\n",
       "      <td>143.0</td>\n",
       "      <td>87.0</td>\n",
       "      <td>2.0</td>\n",
       "      <td>0.0</td>\n",
       "      <td>1.0</td>\n",
       "      <td>14.0</td>\n",
       "      <td>193.0</td>\n",
       "      <td>495.0</td>\n",
       "      <td>495.0</td>\n",
       "      <td>495.0</td>\n",
       "      <td>1</td>\n",
       "      <td>1.0</td>\n",
       "      <td>1.0</td>\n",
       "      <td>0.0</td>\n",
       "      <td>0.0</td>\n",
       "      <td>1.0</td>\n",
       "      <td>1.0</td>\n",
       "      <td>1.0</td>\n",
       "      <td>1.0</td>\n",
       "      <td>1.0</td>\n",
       "      <td>0.0</td>\n",
       "      <td>1.0</td>\n",
       "      <td>1.0</td>\n",
       "      <td>1.0</td>\n",
       "      <td>1.0</td>\n",
       "      <td>0.0</td>\n",
       "      <td>1.0</td>\n",
       "      <td>0.0</td>\n",
       "      <td>1.0</td>\n",
       "      <td>1.0</td>\n",
       "      <td>1.0</td>\n",
       "      <td>1.0</td>\n",
       "      <td>1.0</td>\n",
       "      <td>1.0</td>\n",
       "      <td>1.0</td>\n",
       "      <td>0.0</td>\n",
       "      <td>1.0</td>\n",
       "      <td>1.0</td>\n",
       "      <td>1.0</td>\n",
       "      <td>1.0</td>\n",
       "      <td>1.0</td>\n",
       "      <td>0.0</td>\n",
       "      <td>1.0</td>\n",
       "      <td>1.0</td>\n",
       "      <td>1.0</td>\n",
       "      <td>0.0</td>\n",
       "      <td>1.0</td>\n",
       "      <td>1.0</td>\n",
       "      <td>1.0</td>\n",
       "      <td>1.0</td>\n",
       "      <td>1.0</td>\n",
       "      <td>0.0</td>\n",
       "      <td>1.0</td>\n",
       "      <td>0.0</td>\n",
       "      <td>0.0</td>\n",
       "      <td>0.0</td>\n",
       "      <td>1.0</td>\n",
       "      <td>1.0</td>\n",
       "      <td>1.0</td>\n",
       "      <td>1.0</td>\n",
       "      <td>1.0</td>\n",
       "      <td>1.0</td>\n",
       "      <td>1.0</td>\n",
       "      <td>1.0</td>\n",
       "      <td>1.0</td>\n",
       "      <td>1.0</td>\n",
       "      <td>1.0</td>\n",
       "      <td>1.0</td>\n",
       "      <td>1.0</td>\n",
       "      <td>1.0</td>\n",
       "      <td>1.0</td>\n",
       "      <td>1.0</td>\n",
       "      <td>1.0</td>\n",
       "      <td>1.0</td>\n",
       "      <td>1.0</td>\n",
       "      <td>0.0</td>\n",
       "      <td>0.0</td>\n",
       "      <td>0.00</td>\n",
       "      <td>107.95</td>\n",
       "      <td>107.95</td>\n",
       "      <td>0.0</td>\n",
       "      <td>0.0</td>\n",
       "      <td>0.0</td>\n",
       "      <td>0.0</td>\n",
       "      <td>0.0</td>\n",
       "      <td>0.0</td>\n",
       "      <td>0.0</td>\n",
       "      <td>0.0</td>\n",
       "      <td>0.0</td>\n",
       "      <td>1.0</td>\n",
       "      <td>1.0</td>\n",
       "      <td>0.0</td>\n",
       "      <td>0.0</td>\n",
       "      <td>0.0</td>\n",
       "      <td>1.0</td>\n",
       "      <td>0.0</td>\n",
       "      <td>0.0</td>\n",
       "      <td>0.00</td>\n",
       "      <td>0.00</td>\n",
       "      <td>0.0</td>\n",
       "      <td>107.95</td>\n",
       "      <td>107.95</td>\n",
       "      <td>0</td>\n",
       "      <td>0</td>\n",
       "      <td>0</td>\n",
       "      <td>1</td>\n",
       "      <td>0</td>\n",
       "      <td>0</td>\n",
       "      <td>0</td>\n",
       "      <td>0</td>\n",
       "      <td>0</td>\n",
       "      <td>0</td>\n",
       "      <td>0</td>\n",
       "      <td>0</td>\n",
       "      <td>0</td>\n",
       "      <td>0</td>\n",
       "      <td>0</td>\n",
       "      <td>0</td>\n",
       "      <td>1</td>\n",
       "      <td>0</td>\n",
       "      <td>0</td>\n",
       "      <td>0</td>\n",
       "      <td>0</td>\n",
       "      <td>0</td>\n",
       "      <td>0</td>\n",
       "      <td>0</td>\n",
       "      <td>0</td>\n",
       "      <td>0</td>\n",
       "      <td>0</td>\n",
       "      <td>0</td>\n",
       "      <td>0</td>\n",
       "      <td>0</td>\n",
       "      <td>0</td>\n",
       "      <td>0</td>\n",
       "      <td>0</td>\n",
       "      <td>0</td>\n",
       "      <td>0</td>\n",
       "      <td>0</td>\n",
       "      <td>0</td>\n",
       "      <td>0</td>\n",
       "      <td>0</td>\n",
       "      <td>0</td>\n",
       "      <td>0</td>\n",
       "      <td>0</td>\n",
       "      <td>0</td>\n",
       "      <td>0</td>\n",
       "      <td>0</td>\n",
       "      <td>0</td>\n",
       "      <td>0</td>\n",
       "      <td>0</td>\n",
       "      <td>0</td>\n",
       "      <td>0</td>\n",
       "      <td>0</td>\n",
       "      <td>0</td>\n",
       "      <td>0</td>\n",
       "      <td>0</td>\n",
       "      <td>0</td>\n",
       "      <td>0</td>\n",
       "      <td>0</td>\n",
       "      <td>0</td>\n",
       "    </tr>\n",
       "    <tr>\n",
       "      <th>3</th>\n",
       "      <td>0.0</td>\n",
       "      <td>100.00</td>\n",
       "      <td>14290</td>\n",
       "      <td>512.0</td>\n",
       "      <td>150.0</td>\n",
       "      <td>226.0</td>\n",
       "      <td>177.0</td>\n",
       "      <td>87.0</td>\n",
       "      <td>1.0</td>\n",
       "      <td>0.0</td>\n",
       "      <td>0.0</td>\n",
       "      <td>1.0</td>\n",
       "      <td>0.0</td>\n",
       "      <td>0.0</td>\n",
       "      <td>0.0</td>\n",
       "      <td>0.0</td>\n",
       "      <td>1</td>\n",
       "      <td>0.0</td>\n",
       "      <td>1.0</td>\n",
       "      <td>0.0</td>\n",
       "      <td>1.0</td>\n",
       "      <td>1.0</td>\n",
       "      <td>1.0</td>\n",
       "      <td>1.0</td>\n",
       "      <td>1.0</td>\n",
       "      <td>1.0</td>\n",
       "      <td>0.0</td>\n",
       "      <td>0.0</td>\n",
       "      <td>0.0</td>\n",
       "      <td>1.0</td>\n",
       "      <td>1.0</td>\n",
       "      <td>1.0</td>\n",
       "      <td>1.0</td>\n",
       "      <td>1.0</td>\n",
       "      <td>1.0</td>\n",
       "      <td>1.0</td>\n",
       "      <td>1.0</td>\n",
       "      <td>0.0</td>\n",
       "      <td>1.0</td>\n",
       "      <td>1.0</td>\n",
       "      <td>1.0</td>\n",
       "      <td>0.0</td>\n",
       "      <td>1.0</td>\n",
       "      <td>1.0</td>\n",
       "      <td>1.0</td>\n",
       "      <td>1.0</td>\n",
       "      <td>1.0</td>\n",
       "      <td>0.0</td>\n",
       "      <td>0.0</td>\n",
       "      <td>1.0</td>\n",
       "      <td>1.0</td>\n",
       "      <td>1.0</td>\n",
       "      <td>1.0</td>\n",
       "      <td>1.0</td>\n",
       "      <td>1.0</td>\n",
       "      <td>1.0</td>\n",
       "      <td>1.0</td>\n",
       "      <td>0.0</td>\n",
       "      <td>0.0</td>\n",
       "      <td>0.0</td>\n",
       "      <td>0.0</td>\n",
       "      <td>0.0</td>\n",
       "      <td>0.0</td>\n",
       "      <td>1.0</td>\n",
       "      <td>1.0</td>\n",
       "      <td>1.0</td>\n",
       "      <td>1.0</td>\n",
       "      <td>1.0</td>\n",
       "      <td>1.0</td>\n",
       "      <td>1.0</td>\n",
       "      <td>1.0</td>\n",
       "      <td>1.0</td>\n",
       "      <td>1.0</td>\n",
       "      <td>1.0</td>\n",
       "      <td>1.0</td>\n",
       "      <td>1.0</td>\n",
       "      <td>1.0</td>\n",
       "      <td>1.0</td>\n",
       "      <td>1.0</td>\n",
       "      <td>1.0</td>\n",
       "      <td>1.0</td>\n",
       "      <td>0.0</td>\n",
       "      <td>0.0</td>\n",
       "      <td>0.00</td>\n",
       "      <td>0.00</td>\n",
       "      <td>0.00</td>\n",
       "      <td>0.0</td>\n",
       "      <td>1.0</td>\n",
       "      <td>1.0</td>\n",
       "      <td>0.0</td>\n",
       "      <td>0.0</td>\n",
       "      <td>0.0</td>\n",
       "      <td>0.0</td>\n",
       "      <td>0.0</td>\n",
       "      <td>0.0</td>\n",
       "      <td>1.0</td>\n",
       "      <td>1.0</td>\n",
       "      <td>0.0</td>\n",
       "      <td>1.0</td>\n",
       "      <td>1.0</td>\n",
       "      <td>1.0</td>\n",
       "      <td>0.0</td>\n",
       "      <td>0.0</td>\n",
       "      <td>0.00</td>\n",
       "      <td>0.00</td>\n",
       "      <td>0.0</td>\n",
       "      <td>0.00</td>\n",
       "      <td>0.00</td>\n",
       "      <td>1</td>\n",
       "      <td>0</td>\n",
       "      <td>0</td>\n",
       "      <td>0</td>\n",
       "      <td>0</td>\n",
       "      <td>0</td>\n",
       "      <td>0</td>\n",
       "      <td>0</td>\n",
       "      <td>0</td>\n",
       "      <td>0</td>\n",
       "      <td>0</td>\n",
       "      <td>0</td>\n",
       "      <td>0</td>\n",
       "      <td>0</td>\n",
       "      <td>0</td>\n",
       "      <td>0</td>\n",
       "      <td>0</td>\n",
       "      <td>0</td>\n",
       "      <td>0</td>\n",
       "      <td>0</td>\n",
       "      <td>0</td>\n",
       "      <td>0</td>\n",
       "      <td>0</td>\n",
       "      <td>0</td>\n",
       "      <td>0</td>\n",
       "      <td>0</td>\n",
       "      <td>0</td>\n",
       "      <td>0</td>\n",
       "      <td>0</td>\n",
       "      <td>0</td>\n",
       "      <td>0</td>\n",
       "      <td>0</td>\n",
       "      <td>0</td>\n",
       "      <td>0</td>\n",
       "      <td>0</td>\n",
       "      <td>0</td>\n",
       "      <td>0</td>\n",
       "      <td>0</td>\n",
       "      <td>0</td>\n",
       "      <td>0</td>\n",
       "      <td>0</td>\n",
       "      <td>0</td>\n",
       "      <td>0</td>\n",
       "      <td>0</td>\n",
       "      <td>0</td>\n",
       "      <td>0</td>\n",
       "      <td>0</td>\n",
       "      <td>0</td>\n",
       "      <td>0</td>\n",
       "      <td>0</td>\n",
       "      <td>0</td>\n",
       "      <td>0</td>\n",
       "      <td>1</td>\n",
       "      <td>0</td>\n",
       "      <td>0</td>\n",
       "      <td>0</td>\n",
       "      <td>0</td>\n",
       "      <td>0</td>\n",
       "    </tr>\n",
       "    <tr>\n",
       "      <th>4</th>\n",
       "      <td>0.0</td>\n",
       "      <td>95.00</td>\n",
       "      <td>12839</td>\n",
       "      <td>321.0</td>\n",
       "      <td>150.0</td>\n",
       "      <td>226.0</td>\n",
       "      <td>220.0</td>\n",
       "      <td>87.0</td>\n",
       "      <td>84.0</td>\n",
       "      <td>0.0</td>\n",
       "      <td>142.0</td>\n",
       "      <td>483.0</td>\n",
       "      <td>35.0</td>\n",
       "      <td>566.0</td>\n",
       "      <td>76.0</td>\n",
       "      <td>559.0</td>\n",
       "      <td>0</td>\n",
       "      <td>1.0</td>\n",
       "      <td>1.0</td>\n",
       "      <td>0.0</td>\n",
       "      <td>0.0</td>\n",
       "      <td>1.0</td>\n",
       "      <td>1.0</td>\n",
       "      <td>1.0</td>\n",
       "      <td>1.0</td>\n",
       "      <td>1.0</td>\n",
       "      <td>0.0</td>\n",
       "      <td>1.0</td>\n",
       "      <td>0.0</td>\n",
       "      <td>1.0</td>\n",
       "      <td>1.0</td>\n",
       "      <td>0.0</td>\n",
       "      <td>1.0</td>\n",
       "      <td>0.0</td>\n",
       "      <td>1.0</td>\n",
       "      <td>1.0</td>\n",
       "      <td>2.0</td>\n",
       "      <td>1.0</td>\n",
       "      <td>0.0</td>\n",
       "      <td>1.0</td>\n",
       "      <td>1.0</td>\n",
       "      <td>0.0</td>\n",
       "      <td>1.0</td>\n",
       "      <td>1.0</td>\n",
       "      <td>1.0</td>\n",
       "      <td>1.0</td>\n",
       "      <td>1.0</td>\n",
       "      <td>0.0</td>\n",
       "      <td>1.0</td>\n",
       "      <td>1.0</td>\n",
       "      <td>1.0</td>\n",
       "      <td>0.0</td>\n",
       "      <td>1.0</td>\n",
       "      <td>1.0</td>\n",
       "      <td>1.0</td>\n",
       "      <td>1.0</td>\n",
       "      <td>1.0</td>\n",
       "      <td>0.0</td>\n",
       "      <td>1.0</td>\n",
       "      <td>1.0</td>\n",
       "      <td>3.0</td>\n",
       "      <td>2.0</td>\n",
       "      <td>0.0</td>\n",
       "      <td>1.0</td>\n",
       "      <td>1.0</td>\n",
       "      <td>1.0</td>\n",
       "      <td>1.0</td>\n",
       "      <td>1.0</td>\n",
       "      <td>1.0</td>\n",
       "      <td>1.0</td>\n",
       "      <td>1.0</td>\n",
       "      <td>1.0</td>\n",
       "      <td>1.0</td>\n",
       "      <td>1.0</td>\n",
       "      <td>1.0</td>\n",
       "      <td>1.0</td>\n",
       "      <td>1.0</td>\n",
       "      <td>1.0</td>\n",
       "      <td>1.0</td>\n",
       "      <td>1.0</td>\n",
       "      <td>1.0</td>\n",
       "      <td>39.0</td>\n",
       "      <td>112.9</td>\n",
       "      <td>64.95</td>\n",
       "      <td>0.00</td>\n",
       "      <td>0.00</td>\n",
       "      <td>0.0</td>\n",
       "      <td>1.0</td>\n",
       "      <td>2.0</td>\n",
       "      <td>1.0</td>\n",
       "      <td>3.0</td>\n",
       "      <td>0.0</td>\n",
       "      <td>2.0</td>\n",
       "      <td>1.0</td>\n",
       "      <td>2.0</td>\n",
       "      <td>1.0</td>\n",
       "      <td>1.0</td>\n",
       "      <td>0.0</td>\n",
       "      <td>0.0</td>\n",
       "      <td>0.0</td>\n",
       "      <td>1.0</td>\n",
       "      <td>112.9</td>\n",
       "      <td>0.0</td>\n",
       "      <td>64.95</td>\n",
       "      <td>23.95</td>\n",
       "      <td>120.9</td>\n",
       "      <td>0.00</td>\n",
       "      <td>0.00</td>\n",
       "      <td>0</td>\n",
       "      <td>0</td>\n",
       "      <td>0</td>\n",
       "      <td>1</td>\n",
       "      <td>0</td>\n",
       "      <td>0</td>\n",
       "      <td>0</td>\n",
       "      <td>0</td>\n",
       "      <td>0</td>\n",
       "      <td>0</td>\n",
       "      <td>0</td>\n",
       "      <td>0</td>\n",
       "      <td>0</td>\n",
       "      <td>0</td>\n",
       "      <td>0</td>\n",
       "      <td>0</td>\n",
       "      <td>0</td>\n",
       "      <td>0</td>\n",
       "      <td>0</td>\n",
       "      <td>0</td>\n",
       "      <td>0</td>\n",
       "      <td>0</td>\n",
       "      <td>0</td>\n",
       "      <td>0</td>\n",
       "      <td>0</td>\n",
       "      <td>1</td>\n",
       "      <td>0</td>\n",
       "      <td>0</td>\n",
       "      <td>0</td>\n",
       "      <td>0</td>\n",
       "      <td>0</td>\n",
       "      <td>0</td>\n",
       "      <td>0</td>\n",
       "      <td>0</td>\n",
       "      <td>0</td>\n",
       "      <td>0</td>\n",
       "      <td>0</td>\n",
       "      <td>0</td>\n",
       "      <td>0</td>\n",
       "      <td>0</td>\n",
       "      <td>0</td>\n",
       "      <td>0</td>\n",
       "      <td>0</td>\n",
       "      <td>0</td>\n",
       "      <td>0</td>\n",
       "      <td>0</td>\n",
       "      <td>0</td>\n",
       "      <td>0</td>\n",
       "      <td>0</td>\n",
       "      <td>0</td>\n",
       "      <td>0</td>\n",
       "      <td>0</td>\n",
       "      <td>0</td>\n",
       "      <td>0</td>\n",
       "      <td>0</td>\n",
       "      <td>0</td>\n",
       "      <td>0</td>\n",
       "      <td>0</td>\n",
       "    </tr>\n",
       "  </tbody>\n",
       "</table>\n",
       "</div>"
      ],
      "text/plain": [
       "   isFraud  TransactionAmt  card1  card2  card3  card5  addr1  addr2    C1  \\\n",
       "0      0.0           49.00   5033  269.0  150.0  224.0  330.0   87.0   2.0   \n",
       "1      0.0           57.95   4527  376.0  150.0  226.0  441.0   87.0   2.0   \n",
       "2      0.0          115.95   2772  512.0  150.0  226.0  143.0   87.0   2.0   \n",
       "3      0.0          100.00  14290  512.0  150.0  226.0  177.0   87.0   1.0   \n",
       "4      0.0           95.00  12839  321.0  150.0  226.0  220.0   87.0  84.0   \n",
       "\n",
       "    C3     C5    C13     D1     D4    D10    D15  M6  V12  V14  V15  V17  V19  \\\n",
       "0  0.0    0.0   21.0   14.0  370.0   14.0  375.0   0  1.0  1.0  0.0  0.0  1.0   \n",
       "1  0.0    1.0   14.0  136.0  136.0  136.0  136.0   0  1.0  1.0  0.0  0.0  1.0   \n",
       "2  0.0    1.0   14.0  193.0  495.0  495.0  495.0   1  1.0  1.0  0.0  0.0  1.0   \n",
       "3  0.0    0.0    1.0    0.0    0.0    0.0    0.0   1  0.0  1.0  0.0  1.0  1.0   \n",
       "4  0.0  142.0  483.0   35.0  566.0   76.0  559.0   0  1.0  1.0  0.0  0.0  1.0   \n",
       "\n",
       "   V23  V24  V25  V26  V27  V29  V35  V37  V38  V39  V41  V42  V44  V46  V47  \\\n",
       "0  1.0  1.0  1.0  1.0  0.0  0.0  0.0  1.0  1.0  0.0  1.0  0.0  1.0  1.0  1.0   \n",
       "1  1.0  1.0  1.0  1.0  0.0  1.0  1.0  1.0  1.0  0.0  1.0  0.0  1.0  1.0  1.0   \n",
       "2  1.0  1.0  1.0  1.0  0.0  1.0  1.0  1.0  1.0  0.0  1.0  0.0  1.0  1.0  1.0   \n",
       "3  1.0  1.0  1.0  1.0  0.0  0.0  0.0  1.0  1.0  1.0  1.0  1.0  1.0  1.0  1.0   \n",
       "4  1.0  1.0  1.0  1.0  0.0  1.0  0.0  1.0  1.0  0.0  1.0  0.0  1.0  1.0  2.0   \n",
       "\n",
       "   V48  V53  V55  V56  V59  V61  V62  V65  V66  V67  V68  V75  V77  V78  V80  \\\n",
       "0  0.0  1.0  1.0  1.0  0.0  1.0  1.0  1.0  1.0  1.0  0.0  0.0  1.0  1.0  0.0   \n",
       "1  1.0  1.0  1.0  1.0  0.0  1.0  1.0  1.0  1.0  1.0  0.0  1.0  1.0  1.0  0.0   \n",
       "2  1.0  1.0  1.0  1.0  0.0  1.0  1.0  1.0  1.0  1.0  0.0  1.0  1.0  1.0  0.0   \n",
       "3  0.0  1.0  1.0  1.0  0.0  1.0  1.0  1.0  1.0  1.0  0.0  0.0  1.0  1.0  1.0   \n",
       "4  1.0  0.0  1.0  1.0  0.0  1.0  1.0  1.0  1.0  1.0  0.0  1.0  1.0  1.0  0.0   \n",
       "\n",
       "   V82  V83  V86  V87  V88  V89  V95  V98  V99  V100  V104  V107  V108  V109  \\\n",
       "0  1.0  2.0  1.0  1.0  1.0  0.0  0.0  0.0  2.0   0.0   0.0   1.0   1.0   1.0   \n",
       "1  1.0  1.0  1.0  1.0  1.0  0.0  0.0  0.0  4.0   0.0   0.0   1.0   1.0   1.0   \n",
       "2  1.0  1.0  1.0  1.0  1.0  0.0  1.0  0.0  0.0   0.0   1.0   1.0   1.0   1.0   \n",
       "3  1.0  1.0  1.0  1.0  1.0  0.0  0.0  0.0  0.0   0.0   0.0   1.0   1.0   1.0   \n",
       "4  1.0  1.0  1.0  1.0  1.0  0.0  1.0  1.0  3.0   2.0   0.0   1.0   1.0   1.0   \n",
       "\n",
       "   V110  V111  V112  V114  V115  V116  V117  V118  V119  V120  V121  V122  \\\n",
       "0   1.0   1.0   1.0   1.0   1.0   1.0   1.0   1.0   1.0   1.0   1.0   1.0   \n",
       "1   1.0   1.0   1.0   1.0   1.0   1.0   1.0   1.0   1.0   1.0   1.0   1.0   \n",
       "2   1.0   1.0   1.0   1.0   1.0   1.0   1.0   1.0   1.0   1.0   1.0   1.0   \n",
       "3   1.0   1.0   1.0   1.0   1.0   1.0   1.0   1.0   1.0   1.0   1.0   1.0   \n",
       "4   1.0   1.0   1.0   1.0   1.0   1.0   1.0   1.0   1.0   1.0   1.0   1.0   \n",
       "\n",
       "   V123  V124  V125  V129   V130   V131    V135    V136  V281  V282  V283  \\\n",
       "0   1.0   1.0   1.0   0.0   98.0   0.00    0.00    0.00   0.0   1.0   2.0   \n",
       "1   1.0   1.0   1.0   0.0  229.8   0.00    0.00    0.00   0.0   0.0   0.0   \n",
       "2   1.0   1.0   1.0   0.0    0.0   0.00  107.95  107.95   0.0   0.0   0.0   \n",
       "3   1.0   1.0   1.0   0.0    0.0   0.00    0.00    0.00   0.0   1.0   1.0   \n",
       "4   1.0   1.0   1.0  39.0  112.9  64.95    0.00    0.00   0.0   1.0   2.0   \n",
       "\n",
       "   V284  V285  V286  V287  V288  V289  V290  V291  V300  V302  V303  V305  \\\n",
       "0   0.0   2.0   0.0   0.0   1.0   2.0   1.0   1.0   0.0   0.0   0.0   1.0   \n",
       "1   0.0   4.0   0.0   0.0   0.0   0.0   1.0   1.0   0.0   0.0   0.0   1.0   \n",
       "2   0.0   0.0   0.0   0.0   0.0   0.0   1.0   1.0   0.0   0.0   0.0   1.0   \n",
       "3   0.0   0.0   0.0   0.0   0.0   0.0   1.0   1.0   0.0   1.0   1.0   1.0   \n",
       "4   1.0   3.0   0.0   2.0   1.0   2.0   1.0   1.0   0.0   0.0   0.0   1.0   \n",
       "\n",
       "    V310  V311   V312   V313   V314    V319    V320  ProductCD_is_H  \\\n",
       "0   98.0   0.0   0.00  49.00   98.0    0.00    0.00               0   \n",
       "1  229.8   0.0   0.00   0.00    0.0    0.00    0.00               0   \n",
       "2    0.0   0.0   0.00   0.00    0.0  107.95  107.95               0   \n",
       "3    0.0   0.0   0.00   0.00    0.0    0.00    0.00               1   \n",
       "4  112.9   0.0  64.95  23.95  120.9    0.00    0.00               0   \n",
       "\n",
       "   ProductCD_is_R  ProductCD_is_S  ProductCD_is_W  card4_is_american express  \\\n",
       "0               0               0               1                          0   \n",
       "1               0               0               1                          0   \n",
       "2               0               0               1                          0   \n",
       "3               0               0               0                          0   \n",
       "4               0               0               1                          0   \n",
       "\n",
       "   card4_is_discover  card4_is_mastercard  card6_is_charge card  \\\n",
       "0                  0                    1                     0   \n",
       "1                  0                    0                     0   \n",
       "2                  0                    0                     0   \n",
       "3                  0                    0                     0   \n",
       "4                  0                    0                     0   \n",
       "\n",
       "   card6_is_credit  card6_is_debit or credit  P_emaildomain_is_aim.com  \\\n",
       "0                0                         0                         0   \n",
       "1                0                         0                         0   \n",
       "2                0                         0                         0   \n",
       "3                0                         0                         0   \n",
       "4                0                         0                         0   \n",
       "\n",
       "   P_emaildomain_is_anonymous.com  P_emaildomain_is_aol.com  \\\n",
       "0                               0                         0   \n",
       "1                               0                         0   \n",
       "2                               0                         0   \n",
       "3                               0                         0   \n",
       "4                               0                         0   \n",
       "\n",
       "   P_emaildomain_is_att.net  P_emaildomain_is_bellsouth.net  \\\n",
       "0                         0                               0   \n",
       "1                         0                               0   \n",
       "2                         0                               0   \n",
       "3                         0                               0   \n",
       "4                         0                               0   \n",
       "\n",
       "   P_emaildomain_is_cableone.net  P_emaildomain_is_centurylink.net  \\\n",
       "0                              0                                 0   \n",
       "1                              0                                 0   \n",
       "2                              0                                 1   \n",
       "3                              0                                 0   \n",
       "4                              0                                 0   \n",
       "\n",
       "   P_emaildomain_is_charter.net  P_emaildomain_is_comcast.net  \\\n",
       "0                             0                             0   \n",
       "1                             0                             0   \n",
       "2                             0                             0   \n",
       "3                             0                             0   \n",
       "4                             0                             0   \n",
       "\n",
       "   P_emaildomain_is_cox.net  P_emaildomain_is_earthlink.net  \\\n",
       "0                         0                               0   \n",
       "1                         0                               0   \n",
       "2                         0                               0   \n",
       "3                         0                               0   \n",
       "4                         0                               0   \n",
       "\n",
       "   P_emaildomain_is_embarqmail.com  P_emaildomain_is_frontier.com  \\\n",
       "0                                0                              0   \n",
       "1                                0                              0   \n",
       "2                                0                              0   \n",
       "3                                0                              0   \n",
       "4                                0                              0   \n",
       "\n",
       "   P_emaildomain_is_frontiernet.net  P_emaildomain_is_gmail  \\\n",
       "0                                 0                       0   \n",
       "1                                 0                       0   \n",
       "2                                 0                       0   \n",
       "3                                 0                       0   \n",
       "4                                 0                       0   \n",
       "\n",
       "   P_emaildomain_is_gmail.com  P_emaildomain_is_goodmail  \\\n",
       "0                           1                          0   \n",
       "1                           1                          0   \n",
       "2                           0                          0   \n",
       "3                           0                          0   \n",
       "4                           1                          0   \n",
       "\n",
       "   P_emaildomain_is_hotmail.com  P_emaildomain_is_hotmail.es  \\\n",
       "0                             0                            0   \n",
       "1                             0                            0   \n",
       "2                             0                            0   \n",
       "3                             0                            0   \n",
       "4                             0                            0   \n",
       "\n",
       "   P_emaildomain_is_hotmail.fr  P_emaildomain_is_icloud.com  \\\n",
       "0                            0                            0   \n",
       "1                            0                            0   \n",
       "2                            0                            0   \n",
       "3                            0                            0   \n",
       "4                            0                            0   \n",
       "\n",
       "   P_emaildomain_is_juno.com  P_emaildomain_is_live.com  \\\n",
       "0                          0                          0   \n",
       "1                          0                          0   \n",
       "2                          0                          0   \n",
       "3                          0                          0   \n",
       "4                          0                          0   \n",
       "\n",
       "   P_emaildomain_is_live.com.mx  P_emaildomain_is_live.fr  \\\n",
       "0                             0                         0   \n",
       "1                             0                         0   \n",
       "2                             0                         0   \n",
       "3                             0                         0   \n",
       "4                             0                         0   \n",
       "\n",
       "   P_emaildomain_is_mac.com  P_emaildomain_is_mail.com  \\\n",
       "0                         0                          0   \n",
       "1                         0                          0   \n",
       "2                         0                          0   \n",
       "3                         0                          0   \n",
       "4                         0                          0   \n",
       "\n",
       "   P_emaildomain_is_me.com  P_emaildomain_is_msn.com  \\\n",
       "0                        0                         0   \n",
       "1                        0                         0   \n",
       "2                        0                         0   \n",
       "3                        0                         0   \n",
       "4                        0                         0   \n",
       "\n",
       "   P_emaildomain_is_netzero.net  P_emaildomain_is_optonline.net  \\\n",
       "0                             0                               0   \n",
       "1                             0                               0   \n",
       "2                             0                               0   \n",
       "3                             0                               0   \n",
       "4                             0                               0   \n",
       "\n",
       "   P_emaildomain_is_outlook.com  P_emaildomain_is_outlook.es  \\\n",
       "0                             0                            0   \n",
       "1                             0                            0   \n",
       "2                             0                            0   \n",
       "3                             0                            0   \n",
       "4                             0                            0   \n",
       "\n",
       "   P_emaildomain_is_prodigy.net.mx  P_emaildomain_is_protonmail.com  \\\n",
       "0                                0                                0   \n",
       "1                                0                                0   \n",
       "2                                0                                0   \n",
       "3                                0                                0   \n",
       "4                                0                                0   \n",
       "\n",
       "   P_emaildomain_is_q.com  P_emaildomain_is_roadrunner.com  \\\n",
       "0                       0                                0   \n",
       "1                       0                                0   \n",
       "2                       0                                0   \n",
       "3                       0                                0   \n",
       "4                       0                                0   \n",
       "\n",
       "   P_emaildomain_is_rocketmail.com  P_emaildomain_is_sbcglobal.net  \\\n",
       "0                                0                               0   \n",
       "1                                0                               0   \n",
       "2                                0                               0   \n",
       "3                                0                               0   \n",
       "4                                0                               0   \n",
       "\n",
       "   P_emaildomain_is_sc.rr.com  P_emaildomain_is_suddenlink.net  \\\n",
       "0                           0                                0   \n",
       "1                           0                                0   \n",
       "2                           0                                0   \n",
       "3                           0                                0   \n",
       "4                           0                                0   \n",
       "\n",
       "   P_emaildomain_is_verizon.net  P_emaildomain_is_yahoo.com  \\\n",
       "0                             0                           0   \n",
       "1                             0                           0   \n",
       "2                             0                           0   \n",
       "3                             0                           1   \n",
       "4                             0                           0   \n",
       "\n",
       "   P_emaildomain_is_yahoo.com.mx  P_emaildomain_is_yahoo.de  \\\n",
       "0                              0                          0   \n",
       "1                              0                          0   \n",
       "2                              0                          0   \n",
       "3                              0                          0   \n",
       "4                              0                          0   \n",
       "\n",
       "   P_emaildomain_is_yahoo.es  P_emaildomain_is_yahoo.fr  \\\n",
       "0                          0                          0   \n",
       "1                          0                          0   \n",
       "2                          0                          0   \n",
       "3                          0                          0   \n",
       "4                          0                          0   \n",
       "\n",
       "   P_emaildomain_is_ymail.com  \n",
       "0                           0  \n",
       "1                           0  \n",
       "2                           0  \n",
       "3                           0  \n",
       "4                           0  "
      ]
     },
     "execution_count": 5,
     "metadata": {},
     "output_type": "execute_result"
    }
   ],
   "source": [
    "train.head()"
   ]
  },
  {
   "cell_type": "code",
   "execution_count": 6,
   "id": "21650d9b",
   "metadata": {
    "execution": {
     "iopub.execute_input": "2022-11-11T11:17:53.581864Z",
     "iopub.status.busy": "2022-11-11T11:17:53.581399Z",
     "iopub.status.idle": "2022-11-11T11:17:53.771880Z",
     "shell.execute_reply": "2022-11-11T11:17:53.770556Z"
    },
    "papermill": {
     "duration": 0.204006,
     "end_time": "2022-11-11T11:17:53.774471",
     "exception": false,
     "start_time": "2022-11-11T11:17:53.570465",
     "status": "completed"
    },
    "tags": []
   },
   "outputs": [],
   "source": [
    "Train_target_df=train.loc[:,\"isFraud\"]\n",
    "train.drop(\"isFraud\",axis=1,inplace=True)"
   ]
  },
  {
   "cell_type": "code",
   "execution_count": 7,
   "id": "a881be2c",
   "metadata": {
    "execution": {
     "iopub.execute_input": "2022-11-11T11:17:53.793987Z",
     "iopub.status.busy": "2022-11-11T11:17:53.793566Z",
     "iopub.status.idle": "2022-11-11T11:17:53.798089Z",
     "shell.execute_reply": "2022-11-11T11:17:53.796995Z"
    },
    "papermill": {
     "duration": 0.017248,
     "end_time": "2022-11-11T11:17:53.800634",
     "exception": false,
     "start_time": "2022-11-11T11:17:53.783386",
     "status": "completed"
    },
    "tags": []
   },
   "outputs": [],
   "source": [
    "x_train_df=train\n",
    "y_train_df=Train_target_df"
   ]
  },
  {
   "cell_type": "code",
   "execution_count": 8,
   "id": "0e8e08b2",
   "metadata": {
    "execution": {
     "iopub.execute_input": "2022-11-11T11:17:53.820228Z",
     "iopub.status.busy": "2022-11-11T11:17:53.819801Z",
     "iopub.status.idle": "2022-11-11T11:17:54.617744Z",
     "shell.execute_reply": "2022-11-11T11:17:54.616413Z"
    },
    "papermill": {
     "duration": 0.810905,
     "end_time": "2022-11-11T11:17:54.620566",
     "exception": false,
     "start_time": "2022-11-11T11:17:53.809661",
     "status": "completed"
    },
    "tags": []
   },
   "outputs": [],
   "source": [
    "from sklearn.model_selection import train_test_split\n",
    "x_train, x_test, y_train, y_test = train_test_split(x_train_df, y_train_df, test_size=0.20, random_state=0)"
   ]
  },
  {
   "cell_type": "markdown",
   "id": "9d66bb5a",
   "metadata": {
    "papermill": {
     "duration": 0.009321,
     "end_time": "2022-11-11T11:17:54.638590",
     "exception": false,
     "start_time": "2022-11-11T11:17:54.629269",
     "status": "completed"
    },
    "tags": []
   },
   "source": [
    "### functions"
   ]
  },
  {
   "cell_type": "code",
   "execution_count": 9,
   "id": "7e99fb9b",
   "metadata": {
    "execution": {
     "iopub.execute_input": "2022-11-11T11:17:54.658656Z",
     "iopub.status.busy": "2022-11-11T11:17:54.658098Z",
     "iopub.status.idle": "2022-11-11T11:17:54.668422Z",
     "shell.execute_reply": "2022-11-11T11:17:54.667092Z"
    },
    "papermill": {
     "duration": 0.023512,
     "end_time": "2022-11-11T11:17:54.671176",
     "exception": false,
     "start_time": "2022-11-11T11:17:54.647664",
     "status": "completed"
    },
    "tags": []
   },
   "outputs": [],
   "source": [
    "def Evalution(y_test,predictions): \n",
    "    score=metrics.accuracy_score(y_test, predictions)\n",
    "    cm = metrics.confusion_matrix(y_test, predictions)\n",
    "    plt.figure(figsize=(9,9))\n",
    "    sns.heatmap(cm, annot=True, fmt=\".3f\", linewidths=.5, square = True, cmap = 'Blues_r');\n",
    "    plt.ylabel('Actual label');\n",
    "    plt.xlabel('Predicted label');\n",
    "    all_sample_title = 'Accuracy Score: {0}'.format(score)\n",
    "    plt.title(all_sample_title, size = 15);\n",
    "    print(classification_report(y_test, predictions))\n",
    "def AUC(model,x_test,y_test,predictions):\n",
    "    metrics.plot_roc_curve(model, x_test, y_test) \n",
    "    fpr, tpr, thresholds=metrics.roc_curve(y_test,predictions)\n",
    "    # auc score\n",
    "    print(\"AUC score: {}\".format(metrics.auc(fpr, tpr)))\n",
    "def Eval(model,X_over,y_over,x_test,y_test): \n",
    "    model.fit(X_over,y_over)\n",
    "    predictions = model.predict(x_test)\n",
    "    Evalution(y_test,predictions)\n",
    "    AUC(model,x_test,y_test,predictions)"
   ]
  },
  {
   "cell_type": "markdown",
   "id": "da60c003",
   "metadata": {
    "papermill": {
     "duration": 0.008526,
     "end_time": "2022-11-11T11:17:54.688574",
     "exception": false,
     "start_time": "2022-11-11T11:17:54.680048",
     "status": "completed"
    },
    "tags": []
   },
   "source": [
    "## Under Sampling"
   ]
  },
  {
   "cell_type": "code",
   "execution_count": 10,
   "id": "999f6c86",
   "metadata": {
    "execution": {
     "iopub.execute_input": "2022-11-11T11:17:54.707983Z",
     "iopub.status.busy": "2022-11-11T11:17:54.707521Z",
     "iopub.status.idle": "2022-11-11T11:17:55.105961Z",
     "shell.execute_reply": "2022-11-11T11:17:55.104778Z"
    },
    "papermill": {
     "duration": 0.411553,
     "end_time": "2022-11-11T11:17:55.108885",
     "exception": false,
     "start_time": "2022-11-11T11:17:54.697332",
     "status": "completed"
    },
    "tags": []
   },
   "outputs": [],
   "source": [
    "from imblearn.under_sampling import RandomUnderSampler\n",
    "from collections import Counter"
   ]
  },
  {
   "cell_type": "code",
   "execution_count": 11,
   "id": "890067a1",
   "metadata": {
    "execution": {
     "iopub.execute_input": "2022-11-11T11:17:55.128360Z",
     "iopub.status.busy": "2022-11-11T11:17:55.127970Z",
     "iopub.status.idle": "2022-11-11T11:17:55.709980Z",
     "shell.execute_reply": "2022-11-11T11:17:55.708361Z"
    },
    "papermill": {
     "duration": 0.594821,
     "end_time": "2022-11-11T11:17:55.712627",
     "exception": false,
     "start_time": "2022-11-11T11:17:55.117806",
     "status": "completed"
    },
    "tags": []
   },
   "outputs": [
    {
     "name": "stdout",
     "output_type": "stream",
     "text": [
      "Counter({0.0: 341979, 1.0: 12345})\n",
      "Counter({0.0: 85429, 1.0: 3152})\n"
     ]
    }
   ],
   "source": [
    "print(Counter(y_train))\n",
    "undersample = RandomUnderSampler(sampling_strategy=0.5)\n",
    "X_over, y_over = undersample.fit_resample(x_train, y_train)\n",
    "print(Counter(y_test))"
   ]
  },
  {
   "cell_type": "code",
   "execution_count": 12,
   "id": "2fc304a6",
   "metadata": {
    "execution": {
     "iopub.execute_input": "2022-11-11T11:17:55.732672Z",
     "iopub.status.busy": "2022-11-11T11:17:55.732243Z",
     "iopub.status.idle": "2022-11-11T11:17:56.196457Z",
     "shell.execute_reply": "2022-11-11T11:17:56.195165Z"
    },
    "papermill": {
     "duration": 0.477116,
     "end_time": "2022-11-11T11:17:56.198993",
     "exception": false,
     "start_time": "2022-11-11T11:17:55.721877",
     "status": "completed"
    },
    "tags": []
   },
   "outputs": [
    {
     "name": "stdout",
     "output_type": "stream",
     "text": [
      "Counter({0.0: 341979, 1.0: 12345})\n",
      "Counter({0.0: 85429, 1.0: 3152})\n"
     ]
    }
   ],
   "source": [
    "print(Counter(y_train))\n",
    "undersample = RandomUnderSampler(sampling_strategy=\"majority\")\n",
    "X_over_m, y_over_m = undersample.fit_resample(x_train, y_train)\n",
    "print(Counter(y_test))"
   ]
  },
  {
   "cell_type": "markdown",
   "id": "0e4b1ee2",
   "metadata": {
    "papermill": {
     "duration": 0.008798,
     "end_time": "2022-11-11T11:17:56.216921",
     "exception": false,
     "start_time": "2022-11-11T11:17:56.208123",
     "status": "completed"
    },
    "tags": []
   },
   "source": [
    "### logistic Regression"
   ]
  },
  {
   "cell_type": "code",
   "execution_count": 13,
   "id": "c1274fe5",
   "metadata": {
    "execution": {
     "iopub.execute_input": "2022-11-11T11:17:56.236793Z",
     "iopub.status.busy": "2022-11-11T11:17:56.236355Z",
     "iopub.status.idle": "2022-11-11T11:17:56.242476Z",
     "shell.execute_reply": "2022-11-11T11:17:56.240701Z"
    },
    "papermill": {
     "duration": 0.019044,
     "end_time": "2022-11-11T11:17:56.244979",
     "exception": false,
     "start_time": "2022-11-11T11:17:56.225935",
     "status": "completed"
    },
    "tags": []
   },
   "outputs": [],
   "source": [
    "from sklearn.linear_model import LogisticRegression\n",
    "# all parameters not specified are set to their defaults\n",
    "logisticRegr = LogisticRegression()"
   ]
  },
  {
   "cell_type": "code",
   "execution_count": 14,
   "id": "ca65aca0",
   "metadata": {
    "execution": {
     "iopub.execute_input": "2022-11-11T11:17:56.265049Z",
     "iopub.status.busy": "2022-11-11T11:17:56.264658Z",
     "iopub.status.idle": "2022-11-11T11:17:58.945184Z",
     "shell.execute_reply": "2022-11-11T11:17:58.943953Z"
    },
    "papermill": {
     "duration": 2.693419,
     "end_time": "2022-11-11T11:17:58.947544",
     "exception": false,
     "start_time": "2022-11-11T11:17:56.254125",
     "status": "completed"
    },
    "tags": []
   },
   "outputs": [
    {
     "name": "stdout",
     "output_type": "stream",
     "text": [
      "              precision    recall  f1-score   support\n",
      "\n",
      "         0.0       0.97      0.95      0.96     85429\n",
      "         1.0       0.14      0.24      0.18      3152\n",
      "\n",
      "    accuracy                           0.92     88581\n",
      "   macro avg       0.56      0.59      0.57     88581\n",
      "weighted avg       0.94      0.92      0.93     88581\n",
      "\n",
      "AUC score: 0.5934275679129871\n"
     ]
    },
    {
     "data": {
      "image/png": "[encoded data removed]",
      "text/plain": [
       "<Figure size 648x648 with 2 Axes>"
      ]
     },
     "metadata": {
      "needs_background": "light"
     },
     "output_type": "display_data"
    },
    {
     "data": {
      "image/png": "[encoded data removed]",
      "text/plain": [
       "<Figure size 432x288 with 1 Axes>"
      ]
     },
     "metadata": {
      "needs_background": "light"
     },
     "output_type": "display_data"
    }
   ],
   "source": [
    "Eval(logisticRegr,X_over,y_over,x_test,y_test)"
   ]
  },
  {
   "cell_type": "code",
   "execution_count": 15,
   "id": "878c199c",
   "metadata": {
    "execution": {
     "iopub.execute_input": "2022-11-11T11:17:58.970704Z",
     "iopub.status.busy": "2022-11-11T11:17:58.970010Z",
     "iopub.status.idle": "2022-11-11T11:18:01.178473Z",
     "shell.execute_reply": "2022-11-11T11:18:01.177476Z"
    },
    "papermill": {
     "duration": 2.222642,
     "end_time": "2022-11-11T11:18:01.181023",
     "exception": false,
     "start_time": "2022-11-11T11:17:58.958381",
     "status": "completed"
    },
    "tags": []
   },
   "outputs": [
    {
     "name": "stdout",
     "output_type": "stream",
     "text": [
      "              precision    recall  f1-score   support\n",
      "\n",
      "         0.0       0.98      0.59      0.74     85429\n",
      "         1.0       0.06      0.69      0.11      3152\n",
      "\n",
      "    accuracy                           0.60     88581\n",
      "   macro avg       0.52      0.64      0.42     88581\n",
      "weighted avg       0.95      0.60      0.72     88581\n",
      "\n",
      "AUC score: 0.6426418410770414\n"
     ]
    },
    {
     "data": {
      "image/png": "[encoded data removed]",
      "text/plain": [
       "<Figure size 648x648 with 2 Axes>"
      ]
     },
     "metadata": {
      "needs_background": "light"
     },
     "output_type": "display_data"
    },
    {
     "data": {
      "image/png": "[encoded data removed]",
      "text/plain": [
       "<Figure size 432x288 with 1 Axes>"
      ]
     },
     "metadata": {
      "needs_background": "light"
     },
     "output_type": "display_data"
    }
   ],
   "source": [
    "Eval(logisticRegr,X_over_m,y_over_m,x_test,y_test)"
   ]
  },
  {
   "cell_type": "markdown",
   "id": "03f6bb6d",
   "metadata": {
    "papermill": {
     "duration": 0.010652,
     "end_time": "2022-11-11T11:18:01.202949",
     "exception": false,
     "start_time": "2022-11-11T11:18:01.192297",
     "status": "completed"
    },
    "tags": []
   },
   "source": [
    "### Naive Bayes"
   ]
  },
  {
   "cell_type": "code",
   "execution_count": 16,
   "id": "59469f1b",
   "metadata": {
    "execution": {
     "iopub.execute_input": "2022-11-11T11:18:01.228298Z",
     "iopub.status.busy": "2022-11-11T11:18:01.227495Z",
     "iopub.status.idle": "2022-11-11T11:18:01.236171Z",
     "shell.execute_reply": "2022-11-11T11:18:01.234919Z"
    },
    "papermill": {
     "duration": 0.024483,
     "end_time": "2022-11-11T11:18:01.238787",
     "exception": false,
     "start_time": "2022-11-11T11:18:01.214304",
     "status": "completed"
    },
    "tags": []
   },
   "outputs": [],
   "source": [
    "from sklearn.naive_bayes import GaussianNB\n",
    "nb =GaussianNB()"
   ]
  },
  {
   "cell_type": "code",
   "execution_count": 17,
   "id": "55bd66bf",
   "metadata": {
    "execution": {
     "iopub.execute_input": "2022-11-11T11:18:01.262923Z",
     "iopub.status.busy": "2022-11-11T11:18:01.262492Z",
     "iopub.status.idle": "2022-11-11T11:18:02.691439Z",
     "shell.execute_reply": "2022-11-11T11:18:02.690294Z"
    },
    "papermill": {
     "duration": 1.444325,
     "end_time": "2022-11-11T11:18:02.694011",
     "exception": false,
     "start_time": "2022-11-11T11:18:01.249686",
     "status": "completed"
    },
    "tags": []
   },
   "outputs": [
    {
     "name": "stdout",
     "output_type": "stream",
     "text": [
      "              precision    recall  f1-score   support\n",
      "\n",
      "         0.0       0.98      0.93      0.95     85429\n",
      "         1.0       0.16      0.37      0.22      3152\n",
      "\n",
      "    accuracy                           0.91     88581\n",
      "   macro avg       0.57      0.65      0.59     88581\n",
      "weighted avg       0.95      0.91      0.93     88581\n",
      "\n",
      "AUC score: 0.6482547114554057\n"
     ]
    },
    {
     "data": {
      "image/png": "[encoded data removed]",
      "text/plain": [
       "<Figure size 648x648 with 2 Axes>"
      ]
     },
     "metadata": {
      "needs_background": "light"
     },
     "output_type": "display_data"
    },
    {
     "data": {
      "image/png": "[encoded data removed]",
      "text/plain": [
       "<Figure size 432x288 with 1 Axes>"
      ]
     },
     "metadata": {
      "needs_background": "light"
     },
     "output_type": "display_data"
    }
   ],
   "source": [
    "Eval(nb,X_over,y_over,x_test,y_test)"
   ]
  },
  {
   "cell_type": "code",
   "execution_count": 18,
   "id": "5c259b31",
   "metadata": {
    "execution": {
     "iopub.execute_input": "2022-11-11T11:18:02.720237Z",
     "iopub.status.busy": "2022-11-11T11:18:02.718958Z",
     "iopub.status.idle": "2022-11-11T11:18:04.121510Z",
     "shell.execute_reply": "2022-11-11T11:18:04.120254Z"
    },
    "papermill": {
     "duration": 1.418771,
     "end_time": "2022-11-11T11:18:04.124548",
     "exception": false,
     "start_time": "2022-11-11T11:18:02.705777",
     "status": "completed"
    },
    "tags": []
   },
   "outputs": [
    {
     "name": "stdout",
     "output_type": "stream",
     "text": [
      "              precision    recall  f1-score   support\n",
      "\n",
      "         0.0       0.98      0.93      0.95     85429\n",
      "         1.0       0.16      0.38      0.22      3152\n",
      "\n",
      "    accuracy                           0.91     88581\n",
      "   macro avg       0.57      0.65      0.59     88581\n",
      "weighted avg       0.95      0.91      0.92     88581\n",
      "\n",
      "AUC score: 0.6518448424502836\n"
     ]
    },
    {
     "data": {
      "image/png": "[encoded data removed]",
      "text/plain": [
       "<Figure size 648x648 with 2 Axes>"
      ]
     },
     "metadata": {
      "needs_background": "light"
     },
     "output_type": "display_data"
    },
    {
     "data": {
      "image/png": "[encoded data removed]",
      "text/plain": [
       "<Figure size 432x288 with 1 Axes>"
      ]
     },
     "metadata": {
      "needs_background": "light"
     },
     "output_type": "display_data"
    }
   ],
   "source": [
    "Eval(nb,X_over_m,y_over_m,x_test,y_test)"
   ]
  },
  {
   "cell_type": "markdown",
   "id": "a23b666c",
   "metadata": {
    "papermill": {
     "duration": 0.012235,
     "end_time": "2022-11-11T11:18:04.150050",
     "exception": false,
     "start_time": "2022-11-11T11:18:04.137815",
     "status": "completed"
    },
    "tags": []
   },
   "source": [
    "### RidgeClassifierCV"
   ]
  },
  {
   "cell_type": "code",
   "execution_count": 19,
   "id": "f9addf86",
   "metadata": {
    "execution": {
     "iopub.execute_input": "2022-11-11T11:18:04.177275Z",
     "iopub.status.busy": "2022-11-11T11:18:04.176853Z",
     "iopub.status.idle": "2022-11-11T11:18:04.182040Z",
     "shell.execute_reply": "2022-11-11T11:18:04.181066Z"
    },
    "papermill": {
     "duration": 0.0216,
     "end_time": "2022-11-11T11:18:04.184418",
     "exception": false,
     "start_time": "2022-11-11T11:18:04.162818",
     "status": "completed"
    },
    "tags": []
   },
   "outputs": [],
   "source": [
    "from sklearn.linear_model import RidgeClassifierCV\n",
    "pac=RidgeClassifierCV(alphas=[1e-3, 1e-2, 1e-1, 1])"
   ]
  },
  {
   "cell_type": "code",
   "execution_count": 20,
   "id": "72508f57",
   "metadata": {
    "execution": {
     "iopub.execute_input": "2022-11-11T11:18:04.211964Z",
     "iopub.status.busy": "2022-11-11T11:18:04.211543Z",
     "iopub.status.idle": "2022-11-11T11:18:06.452172Z",
     "shell.execute_reply": "2022-11-11T11:18:06.450753Z"
    },
    "papermill": {
     "duration": 2.257806,
     "end_time": "2022-11-11T11:18:06.455052",
     "exception": false,
     "start_time": "2022-11-11T11:18:04.197246",
     "status": "completed"
    },
    "tags": []
   },
   "outputs": [
    {
     "name": "stdout",
     "output_type": "stream",
     "text": [
      "              precision    recall  f1-score   support\n",
      "\n",
      "         0.0       0.98      0.91      0.94     85429\n",
      "         1.0       0.17      0.49      0.25      3152\n",
      "\n",
      "    accuracy                           0.90     88581\n",
      "   macro avg       0.57      0.70      0.60     88581\n",
      "weighted avg       0.95      0.90      0.92     88581\n",
      "\n",
      "AUC score: 0.6982515310306364\n"
     ]
    },
    {
     "data": {
      "image/png": "[encoded data removed]",
      "text/plain": [
       "<Figure size 648x648 with 2 Axes>"
      ]
     },
     "metadata": {
      "needs_background": "light"
     },
     "output_type": "display_data"
    },
    {
     "data": {
      "image/png": "[encoded data removed]",
      "text/plain": [
       "<Figure size 432x288 with 1 Axes>"
      ]
     },
     "metadata": {
      "needs_background": "light"
     },
     "output_type": "display_data"
    }
   ],
   "source": [
    "Eval(pac,X_over,y_over,x_test,y_test)"
   ]
  },
  {
   "cell_type": "code",
   "execution_count": 21,
   "id": "d56c3ab0",
   "metadata": {
    "execution": {
     "iopub.execute_input": "2022-11-11T11:18:06.486019Z",
     "iopub.status.busy": "2022-11-11T11:18:06.485579Z",
     "iopub.status.idle": "2022-11-11T11:18:08.108224Z",
     "shell.execute_reply": "2022-11-11T11:18:08.106906Z"
    },
    "papermill": {
     "duration": 1.641243,
     "end_time": "2022-11-11T11:18:08.111018",
     "exception": false,
     "start_time": "2022-11-11T11:18:06.469775",
     "status": "completed"
    },
    "tags": []
   },
   "outputs": [
    {
     "name": "stdout",
     "output_type": "stream",
     "text": [
      "              precision    recall  f1-score   support\n",
      "\n",
      "         0.0       0.99      0.76      0.86     85429\n",
      "         1.0       0.10      0.72      0.18      3152\n",
      "\n",
      "    accuracy                           0.76     88581\n",
      "   macro avg       0.54      0.74      0.52     88581\n",
      "weighted avg       0.96      0.76      0.83     88581\n",
      "\n",
      "AUC score: 0.7413846660328198\n"
     ]
    },
    {
     "data": {
      "image/png": "[encoded data removed]",
      "text/plain": [
       "<Figure size 648x648 with 2 Axes>"
      ]
     },
     "metadata": {
      "needs_background": "light"
     },
     "output_type": "display_data"
    },
    {
     "data": {
      "image/png": "[encoded data removed]",
      "text/plain": [
       "<Figure size 432x288 with 1 Axes>"
      ]
     },
     "metadata": {
      "needs_background": "light"
     },
     "output_type": "display_data"
    }
   ],
   "source": [
    "Eval(pac,X_over_m,y_over_m,x_test,y_test)"
   ]
  },
  {
   "cell_type": "code",
   "execution_count": 22,
   "id": "80b353ed",
   "metadata": {
    "execution": {
     "iopub.execute_input": "2022-11-11T11:18:08.142689Z",
     "iopub.status.busy": "2022-11-11T11:18:08.141783Z",
     "iopub.status.idle": "2022-11-11T11:18:08.150516Z",
     "shell.execute_reply": "2022-11-11T11:18:08.149277Z"
    },
    "papermill": {
     "duration": 0.027366,
     "end_time": "2022-11-11T11:18:08.153406",
     "exception": false,
     "start_time": "2022-11-11T11:18:08.126040",
     "status": "completed"
    },
    "tags": []
   },
   "outputs": [
    {
     "data": {
      "text/plain": [
       "{'alphas': array([0.001, 0.01 , 0.1  , 1.   ]),\n",
       " 'class_weight': None,\n",
       " 'cv': None,\n",
       " 'fit_intercept': True,\n",
       " 'normalize': 'deprecated',\n",
       " 'scoring': None,\n",
       " 'store_cv_values': False}"
      ]
     },
     "execution_count": 22,
     "metadata": {},
     "output_type": "execute_result"
    }
   ],
   "source": [
    "pac.get_params(deep=True)"
   ]
  },
  {
   "cell_type": "markdown",
   "id": "7a7be2c3",
   "metadata": {
    "papermill": {
     "duration": 0.015169,
     "end_time": "2022-11-11T11:18:08.183907",
     "exception": false,
     "start_time": "2022-11-11T11:18:08.168738",
     "status": "completed"
    },
    "tags": []
   },
   "source": [
    "### Perceptron"
   ]
  },
  {
   "cell_type": "code",
   "execution_count": 23,
   "id": "a17b2e99",
   "metadata": {
    "execution": {
     "iopub.execute_input": "2022-11-11T11:18:08.216041Z",
     "iopub.status.busy": "2022-11-11T11:18:08.215621Z",
     "iopub.status.idle": "2022-11-11T11:18:08.221319Z",
     "shell.execute_reply": "2022-11-11T11:18:08.219926Z"
    },
    "papermill": {
     "duration": 0.024999,
     "end_time": "2022-11-11T11:18:08.223785",
     "exception": false,
     "start_time": "2022-11-11T11:18:08.198786",
     "status": "completed"
    },
    "tags": []
   },
   "outputs": [],
   "source": [
    "from sklearn.linear_model import Perceptron"
   ]
  },
  {
   "cell_type": "code",
   "execution_count": 24,
   "id": "520315f2",
   "metadata": {
    "execution": {
     "iopub.execute_input": "2022-11-11T11:18:08.255691Z",
     "iopub.status.busy": "2022-11-11T11:18:08.255250Z",
     "iopub.status.idle": "2022-11-11T11:18:08.260907Z",
     "shell.execute_reply": "2022-11-11T11:18:08.259403Z"
    },
    "papermill": {
     "duration": 0.025304,
     "end_time": "2022-11-11T11:18:08.263747",
     "exception": false,
     "start_time": "2022-11-11T11:18:08.238443",
     "status": "completed"
    },
    "tags": []
   },
   "outputs": [],
   "source": [
    "per=Perceptron(tol=1e-5)"
   ]
  },
  {
   "cell_type": "code",
   "execution_count": 25,
   "id": "ba018f1e",
   "metadata": {
    "execution": {
     "iopub.execute_input": "2022-11-11T11:18:08.295994Z",
     "iopub.status.busy": "2022-11-11T11:18:08.295494Z",
     "iopub.status.idle": "2022-11-11T11:18:10.254007Z",
     "shell.execute_reply": "2022-11-11T11:18:10.252759Z"
    },
    "papermill": {
     "duration": 1.978368,
     "end_time": "2022-11-11T11:18:10.257250",
     "exception": false,
     "start_time": "2022-11-11T11:18:08.278882",
     "status": "completed"
    },
    "tags": []
   },
   "outputs": [
    {
     "name": "stdout",
     "output_type": "stream",
     "text": [
      "              precision    recall  f1-score   support\n",
      "\n",
      "         0.0       0.99      0.07      0.14     85429\n",
      "         1.0       0.04      0.98      0.07      3152\n",
      "\n",
      "    accuracy                           0.10     88581\n",
      "   macro avg       0.51      0.53      0.10     88581\n",
      "weighted avg       0.96      0.10      0.13     88581\n",
      "\n",
      "AUC score: 0.5277156007128667\n"
     ]
    },
    {
     "data": {
      "image/png": "[encoded data removed]",
      "text/plain": [
       "<Figure size 648x648 with 2 Axes>"
      ]
     },
     "metadata": {
      "needs_background": "light"
     },
     "output_type": "display_data"
    },
    {
     "data": {
      "image/png": "[encoded data removed]",
      "text/plain": [
       "<Figure size 432x288 with 1 Axes>"
      ]
     },
     "metadata": {
      "needs_background": "light"
     },
     "output_type": "display_data"
    }
   ],
   "source": [
    "Eval(per,X_over,y_over,x_test,y_test)"
   ]
  },
  {
   "cell_type": "code",
   "execution_count": 26,
   "id": "47f5d745",
   "metadata": {
    "execution": {
     "iopub.execute_input": "2022-11-11T11:18:10.291928Z",
     "iopub.status.busy": "2022-11-11T11:18:10.291490Z",
     "iopub.status.idle": "2022-11-11T11:18:11.743549Z",
     "shell.execute_reply": "2022-11-11T11:18:11.742508Z"
    },
    "papermill": {
     "duration": 1.472725,
     "end_time": "2022-11-11T11:18:11.746023",
     "exception": false,
     "start_time": "2022-11-11T11:18:10.273298",
     "status": "completed"
    },
    "tags": []
   },
   "outputs": [
    {
     "name": "stdout",
     "output_type": "stream",
     "text": [
      "              precision    recall  f1-score   support\n",
      "\n",
      "         0.0       0.99      0.29      0.45     85429\n",
      "         1.0       0.04      0.89      0.08      3152\n",
      "\n",
      "    accuracy                           0.31     88581\n",
      "   macro avg       0.52      0.59      0.27     88581\n",
      "weighted avg       0.95      0.31      0.43     88581\n",
      "\n",
      "AUC score: 0.5901610499662111\n"
     ]
    },
    {
     "data": {
      "image/png": "[encoded data removed]",
      "text/plain": [
       "<Figure size 648x648 with 2 Axes>"
      ]
     },
     "metadata": {
      "needs_background": "light"
     },
     "output_type": "display_data"
    },
    {
     "data": {
      "image/png": "[encoded data removed]",
      "text/plain": [
       "<Figure size 432x288 with 1 Axes>"
      ]
     },
     "metadata": {
      "needs_background": "light"
     },
     "output_type": "display_data"
    }
   ],
   "source": [
    "Eval(per,X_over_m,y_over_m,x_test,y_test)"
   ]
  }
 ],
 "metadata": {
  "kernelspec": {
   "display_name": "Python 3",
   "language": "python",
   "name": "python3"
  },
  "language_info": {
   "codemirror_mode": {
    "name": "ipython",
    "version": 3
   },
   "file_extension": ".py",
   "mimetype": "text/x-python",
   "name": "python",
   "nbconvert_exporter": "python",
   "pygments_lexer": "ipython3",
   "version": "3.7.12"
  },
  "papermill": {
   "default_parameters": {},
   "duration": 42.271307,
   "end_time": "2022-11-11T11:18:12.688032",
   "environment_variables": {},
   "exception": null,
   "input_path": "__notebook__.ipynb",
   "output_path": "__notebook__.ipynb",
   "parameters": {},
   "start_time": "2022-11-11T11:17:30.416725",
   "version": "2.3.4"
  }
 },
 "nbformat": 4,
 "nbformat_minor": 5
}

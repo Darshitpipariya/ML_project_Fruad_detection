{
 "cells": [
  {
   "cell_type": "code",
   "execution_count": 1,
   "id": "6a8b92f6",
   "metadata": {
    "_cell_guid": "b896f5dc-9c5a-4d12-b20f-f1aff3cff280",
    "_uuid": "f48bb601-cdbe-4c95-8d1b-7eca6beedd72",
    "collapsed": false,
    "execution": {
     "iopub.execute_input": "2022-12-14T07:45:51.370170Z",
     "iopub.status.busy": "2022-12-14T07:45:51.369683Z",
     "iopub.status.idle": "2022-12-14T07:45:51.381178Z",
     "shell.execute_reply": "2022-12-14T07:45:51.379857Z"
    },
    "jupyter": {
     "outputs_hidden": false
    },
    "papermill": {
     "duration": 0.021248,
     "end_time": "2022-12-14T07:45:51.384023",
     "exception": false,
     "start_time": "2022-12-14T07:45:51.362775",
     "status": "completed"
    },
    "tags": []
   },
   "outputs": [],
   "source": [
    "# This Python 3 environment comes with many helpful analytics libraries installed\n",
    "# It is defined by the kaggle/python Docker image: https://github.com/kaggle/docker-python\n",
    "# For example, here's several helpful packages to load\n",
    "\n",
    "import numpy as np # linear algebra\n",
    "import pandas as pd # data processing, CSV file I/O (e.g. pd.read_csv)"
   ]
  },
  {
   "cell_type": "code",
   "execution_count": 2,
   "id": "87538325",
   "metadata": {
    "_cell_guid": "bac4c059-a5bf-4bda-91c6-82f51d548524",
    "_uuid": "2f562a16-3838-42c5-bea2-c2b1916c9366",
    "collapsed": false,
    "execution": {
     "iopub.execute_input": "2022-12-14T07:45:51.394499Z",
     "iopub.status.busy": "2022-12-14T07:45:51.393831Z",
     "iopub.status.idle": "2022-12-14T07:45:58.483805Z",
     "shell.execute_reply": "2022-12-14T07:45:58.482395Z"
    },
    "jupyter": {
     "outputs_hidden": false
    },
    "papermill": {
     "duration": 7.098558,
     "end_time": "2022-12-14T07:45:58.486865",
     "exception": false,
     "start_time": "2022-12-14T07:45:51.388307",
     "status": "completed"
    },
    "tags": []
   },
   "outputs": [],
   "source": [
    "import numpy as np\n",
    "import tensorflow as tf\n",
    "from sklearn.metrics import roc_auc_score\n",
    "from sklearn.model_selection import train_test_split"
   ]
  },
  {
   "cell_type": "code",
   "execution_count": 3,
   "id": "76c9e313",
   "metadata": {
    "_cell_guid": "63a669da-7178-4edf-a263-8c98bcc113bf",
    "_uuid": "0b0ac039-5681-4cec-9c42-c06e099e8888",
    "collapsed": false,
    "execution": {
     "iopub.execute_input": "2022-12-14T07:45:58.497911Z",
     "iopub.status.busy": "2022-12-14T07:45:58.497179Z",
     "iopub.status.idle": "2022-12-14T07:46:10.579593Z",
     "shell.execute_reply": "2022-12-14T07:46:10.578215Z"
    },
    "jupyter": {
     "outputs_hidden": false
    },
    "papermill": {
     "duration": 12.091272,
     "end_time": "2022-12-14T07:46:10.582541",
     "exception": false,
     "start_time": "2022-12-14T07:45:58.491269",
     "status": "completed"
    },
    "tags": []
   },
   "outputs": [],
   "source": [
    "train=pd.read_csv(\"../input/transaction-fruad/Train_without_Data_balancing.csv\")\n",
    "train=train.drop(train.columns[0],axis=1)\n",
    "Train_target_df=train.loc[:,\"isFraud\"]\n",
    "train.drop(\"isFraud\",axis=1,inplace=True)\n",
    "X_train, X_test, y_train, y_test = train_test_split(train, Train_target_df, test_size=0.20, random_state=0)"
   ]
  },
  {
   "cell_type": "code",
   "execution_count": 4,
   "id": "04c4e280",
   "metadata": {
    "_cell_guid": "49b9d094-1fe3-4cb9-a2a7-cdb39a29257c",
    "_uuid": "b16c6101-46f3-4a20-a2a1-3c1f2308c42e",
    "collapsed": false,
    "execution": {
     "iopub.execute_input": "2022-12-14T07:46:10.594323Z",
     "iopub.status.busy": "2022-12-14T07:46:10.592392Z",
     "iopub.status.idle": "2022-12-14T07:46:12.081015Z",
     "shell.execute_reply": "2022-12-14T07:46:12.078053Z"
    },
    "jupyter": {
     "outputs_hidden": false
    },
    "papermill": {
     "duration": 1.498351,
     "end_time": "2022-12-14T07:46:12.085179",
     "exception": false,
     "start_time": "2022-12-14T07:46:10.586828",
     "status": "completed"
    },
    "tags": []
   },
   "outputs": [
    {
     "name": "stderr",
     "output_type": "stream",
     "text": [
      "2022-12-14 07:46:11.962973: I tensorflow/core/common_runtime/process_util.cc:146] Creating new thread pool with default inter op setting: 2. Tune using inter_op_parallelism_threads for best performance.\n"
     ]
    }
   ],
   "source": [
    "import tensorflow as tf\n",
    "from sklearn.metrics import roc_auc_score, f1_score\n",
    "\n",
    "# Set the input size and number of classes\n",
    "input_size = X_train.shape[1]\n",
    "num_classes = 1\n",
    "\n",
    "# Create the model\n",
    "model = tf.keras.Sequential()\n",
    "\n",
    "# Add the 3 inner layers with ReLU activation function\n",
    "model.add(tf.keras.layers.Dense(units=64, activation='relu', input_shape=(input_size,)))\n",
    "model.add(tf.keras.layers.Dense(units=32, activation='relu'))\n",
    "model.add(tf.keras.layers.Dense(units=16, activation='relu'))\n",
    "\n",
    "# Add the output layer with sigmoid activation function\n",
    "model.add(tf.keras.layers.Dense(units=num_classes, activation='sigmoid'))\n",
    "\n",
    "# Compile the model\n",
    "model.compile(optimizer=tf.keras.optimizers.Adam(),\n",
    "              loss=tf.keras.losses.BinaryCrossentropy(),\n",
    "              metrics=['accuracy', tf.keras.metrics.AUC(), tf.keras.metrics.Precision()])"
   ]
  },
  {
   "cell_type": "code",
   "execution_count": 5,
   "id": "c40825e2",
   "metadata": {
    "_cell_guid": "800551c2-c247-45f0-8211-3bf4f60dc9d6",
    "_uuid": "54cf0b5a-688e-4cb5-9155-5fe62e5f52b4",
    "collapsed": false,
    "execution": {
     "iopub.execute_input": "2022-12-14T07:46:12.096243Z",
     "iopub.status.busy": "2022-12-14T07:46:12.095798Z",
     "iopub.status.idle": "2022-12-14T07:52:50.987495Z",
     "shell.execute_reply": "2022-12-14T07:52:50.986193Z"
    },
    "jupyter": {
     "outputs_hidden": false
    },
    "papermill": {
     "duration": 398.900931,
     "end_time": "2022-12-14T07:52:50.990874",
     "exception": false,
     "start_time": "2022-12-14T07:46:12.089943",
     "status": "completed"
    },
    "tags": []
   },
   "outputs": [
    {
     "name": "stderr",
     "output_type": "stream",
     "text": [
      "2022-12-14 07:46:13.119853: I tensorflow/compiler/mlir/mlir_graph_optimization_pass.cc:185] None of the MLIR Optimization Passes are enabled (registered 2)\n"
     ]
    },
    {
     "name": "stdout",
     "output_type": "stream",
     "text": [
      "Epoch 1/10\n",
      "11073/11073 [==============================] - 41s 4ms/step - loss: 0.5241 - accuracy: 0.9555 - auc: 0.6011 - precision: 0.1516\n",
      "Epoch 2/10\n",
      "11073/11073 [==============================] - 39s 4ms/step - loss: 0.1410 - accuracy: 0.9653 - auc: 0.7260 - precision: 0.5599\n",
      "Epoch 3/10\n",
      "11073/11073 [==============================] - 38s 3ms/step - loss: 0.1331 - accuracy: 0.9666 - auc: 0.7576 - precision: 0.7446\n",
      "Epoch 4/10\n",
      "11073/11073 [==============================] - 41s 4ms/step - loss: 0.1254 - accuracy: 0.9684 - auc: 0.7814 - precision: 0.7791\n",
      "Epoch 5/10\n",
      "11073/11073 [==============================] - 41s 4ms/step - loss: 0.1221 - accuracy: 0.9693 - auc: 0.7943 - precision: 0.7987\n",
      "Epoch 6/10\n",
      "11073/11073 [==============================] - 41s 4ms/step - loss: 0.1189 - accuracy: 0.9697 - auc: 0.8057 - precision: 0.7878\n",
      "Epoch 7/10\n",
      "11073/11073 [==============================] - 39s 4ms/step - loss: 0.1165 - accuracy: 0.9702 - auc: 0.8135 - precision: 0.7992\n",
      "Epoch 8/10\n",
      "11073/11073 [==============================] - 39s 4ms/step - loss: 0.1155 - accuracy: 0.9702 - auc: 0.8181 - precision: 0.7994\n",
      "Epoch 9/10\n",
      "11073/11073 [==============================] - 40s 4ms/step - loss: 0.1144 - accuracy: 0.9705 - auc: 0.8197 - precision: 0.8065\n",
      "Epoch 10/10\n",
      "11073/11073 [==============================] - 39s 4ms/step - loss: 0.1137 - accuracy: 0.9708 - auc: 0.8230 - precision: 0.8095\n"
     ]
    },
    {
     "data": {
      "text/plain": [
       "<keras.callbacks.History at 0x7f49a5588cd0>"
      ]
     },
     "execution_count": 5,
     "metadata": {},
     "output_type": "execute_result"
    }
   ],
   "source": [
    "# Train the model\n",
    "model.fit(X_train, y_train, epochs=10)"
   ]
  },
  {
   "cell_type": "code",
   "execution_count": 6,
   "id": "1b9707f6",
   "metadata": {
    "_cell_guid": "7ba70260-07ac-471d-8a4a-b5ebcf3777ce",
    "_uuid": "33e0106f-3353-45aa-abef-9e75412b7639",
    "collapsed": false,
    "execution": {
     "iopub.execute_input": "2022-12-14T07:52:52.027778Z",
     "iopub.status.busy": "2022-12-14T07:52:52.026393Z",
     "iopub.status.idle": "2022-12-14T07:52:56.084378Z",
     "shell.execute_reply": "2022-12-14T07:52:56.083419Z"
    },
    "jupyter": {
     "outputs_hidden": false
    },
    "papermill": {
     "duration": 4.60945,
     "end_time": "2022-12-14T07:52:56.087163",
     "exception": false,
     "start_time": "2022-12-14T07:52:51.477713",
     "status": "completed"
    },
    "tags": []
   },
   "outputs": [],
   "source": [
    "# Make predictions on the test set\n",
    "y_pred = model.predict(X_test)"
   ]
  },
  {
   "cell_type": "code",
   "execution_count": 7,
   "id": "1f2175c7",
   "metadata": {
    "_cell_guid": "d92e0ecf-9bb1-470a-b721-10bb916e1edf",
    "_uuid": "f2995684-a746-4a70-bca1-a821b86835ce",
    "collapsed": false,
    "execution": {
     "iopub.execute_input": "2022-12-14T07:52:57.059662Z",
     "iopub.status.busy": "2022-12-14T07:52:57.058882Z",
     "iopub.status.idle": "2022-12-14T07:53:04.357184Z",
     "shell.execute_reply": "2022-12-14T07:53:04.355686Z"
    },
    "jupyter": {
     "outputs_hidden": false
    },
    "papermill": {
     "duration": 7.789796,
     "end_time": "2022-12-14T07:53:04.359792",
     "exception": false,
     "start_time": "2022-12-14T07:52:56.569996",
     "status": "completed"
    },
    "tags": []
   },
   "outputs": [
    {
     "name": "stdout",
     "output_type": "stream",
     "text": [
      "2769/2769 [==============================] - 7s 2ms/step - loss: 0.1142 - accuracy: 0.9696 - auc: 0.8341 - precision: 0.8397\n",
      "Loss: 0.11423464119434357\n",
      "Accuracy: 0.9696323275566101\n",
      "AUC: 0.8341042399406433\n",
      "Precision: 0.8397058844566345\n"
     ]
    }
   ],
   "source": [
    "# Evaluate the model\n",
    "loss, accuracy, auc, precision = model.evaluate(X_test, y_test)\n",
    "print('Loss:', loss)\n",
    "print('Accuracy:', accuracy)\n",
    "print('AUC:', auc)\n",
    "print('Precision:', precision)"
   ]
  },
  {
   "cell_type": "code",
   "execution_count": 8,
   "id": "948affc8",
   "metadata": {
    "_cell_guid": "a92c388e-2e3e-477f-98a3-cfce8658d90a",
    "_uuid": "58ff71a7-e722-44f5-aef2-2401f3f4a95d",
    "collapsed": false,
    "execution": {
     "iopub.execute_input": "2022-12-14T07:53:05.408932Z",
     "iopub.status.busy": "2022-12-14T07:53:05.408152Z",
     "iopub.status.idle": "2022-12-14T07:53:15.560220Z",
     "shell.execute_reply": "2022-12-14T07:53:15.559052Z"
    },
    "jupyter": {
     "outputs_hidden": false
    },
    "papermill": {
     "duration": 10.64664,
     "end_time": "2022-12-14T07:53:15.563026",
     "exception": false,
     "start_time": "2022-12-14T07:53:04.916386",
     "status": "completed"
    },
    "tags": []
   },
   "outputs": [],
   "source": [
    "test=pd.read_csv(\"../input/transaction-fruad/Test_without_Data_balancing.csv\")\n",
    "test=test.drop(test.columns[0],axis=1)\n",
    "predictions_test = model.predict(test)\n",
    "Test_df_predictions=pd.DataFrame(data=predictions_test,columns=[\"isFraud\"])\n",
    "Test_df_predictions[Test_df_predictions['isFraud']>0.7]=1\n",
    "Test_df_predictions[Test_df_predictions['isFraud']<=0.7]=0\n",
    "Test_df_predictions.reset_index(inplace=True)\n",
    "Test_df_predictions.rename(columns={\"index\":\"Id\"},inplace=True)"
   ]
  },
  {
   "cell_type": "code",
   "execution_count": 9,
   "id": "554abe1c",
   "metadata": {
    "_cell_guid": "5cc613f2-a85c-4010-8b0d-05761db36c7c",
    "_uuid": "bfb446cf-621e-43d7-afbd-bdadf760ab68",
    "collapsed": false,
    "execution": {
     "iopub.execute_input": "2022-12-14T07:53:16.548307Z",
     "iopub.status.busy": "2022-12-14T07:53:16.547618Z",
     "iopub.status.idle": "2022-12-14T07:53:16.560911Z",
     "shell.execute_reply": "2022-12-14T07:53:16.559721Z"
    },
    "jupyter": {
     "outputs_hidden": false
    },
    "papermill": {
     "duration": 0.507798,
     "end_time": "2022-12-14T07:53:16.563238",
     "exception": false,
     "start_time": "2022-12-14T07:53:16.055440",
     "status": "completed"
    },
    "tags": []
   },
   "outputs": [
    {
     "data": {
      "text/html": [
       "<div>\n",
       "<style scoped>\n",
       "    .dataframe tbody tr th:only-of-type {\n",
       "        vertical-align: middle;\n",
       "    }\n",
       "\n",
       "    .dataframe tbody tr th {\n",
       "        vertical-align: top;\n",
       "    }\n",
       "\n",
       "    .dataframe thead th {\n",
       "        text-align: right;\n",
       "    }\n",
       "</style>\n",
       "<table border=\"1\" class=\"dataframe\">\n",
       "  <thead>\n",
       "    <tr style=\"text-align: right;\">\n",
       "      <th></th>\n",
       "      <th>Id</th>\n",
       "      <th>isFraud</th>\n",
       "    </tr>\n",
       "  </thead>\n",
       "  <tbody>\n",
       "    <tr>\n",
       "      <th>0</th>\n",
       "      <td>0</td>\n",
       "      <td>0.0</td>\n",
       "    </tr>\n",
       "    <tr>\n",
       "      <th>1</th>\n",
       "      <td>1</td>\n",
       "      <td>0.0</td>\n",
       "    </tr>\n",
       "    <tr>\n",
       "      <th>2</th>\n",
       "      <td>2</td>\n",
       "      <td>0.0</td>\n",
       "    </tr>\n",
       "    <tr>\n",
       "      <th>3</th>\n",
       "      <td>3</td>\n",
       "      <td>0.0</td>\n",
       "    </tr>\n",
       "    <tr>\n",
       "      <th>4</th>\n",
       "      <td>4</td>\n",
       "      <td>0.0</td>\n",
       "    </tr>\n",
       "  </tbody>\n",
       "</table>\n",
       "</div>"
      ],
      "text/plain": [
       "   Id  isFraud\n",
       "0   0      0.0\n",
       "1   1      0.0\n",
       "2   2      0.0\n",
       "3   3      0.0\n",
       "4   4      0.0"
      ]
     },
     "execution_count": 9,
     "metadata": {},
     "output_type": "execute_result"
    }
   ],
   "source": [
    "Test_df_predictions.head()"
   ]
  },
  {
   "cell_type": "code",
   "execution_count": 10,
   "id": "cef59e32",
   "metadata": {
    "_cell_guid": "0ce383bc-5751-48ee-bd1b-fd63f9523f69",
    "_uuid": "a5c6e552-321c-4e37-ace5-24eab8178326",
    "collapsed": false,
    "execution": {
     "iopub.execute_input": "2022-12-14T07:53:17.668766Z",
     "iopub.status.busy": "2022-12-14T07:53:17.667495Z",
     "iopub.status.idle": "2022-12-14T07:53:17.675374Z",
     "shell.execute_reply": "2022-12-14T07:53:17.674311Z"
    },
    "jupyter": {
     "outputs_hidden": false
    },
    "papermill": {
     "duration": 0.528857,
     "end_time": "2022-12-14T07:53:17.677786",
     "exception": false,
     "start_time": "2022-12-14T07:53:17.148929",
     "status": "completed"
    },
    "tags": []
   },
   "outputs": [
    {
     "data": {
      "text/plain": [
       "(147635, 2)"
      ]
     },
     "execution_count": 10,
     "metadata": {},
     "output_type": "execute_result"
    }
   ],
   "source": [
    "Test_df_predictions.shape"
   ]
  },
  {
   "cell_type": "code",
   "execution_count": 11,
   "id": "d0bec724",
   "metadata": {
    "_cell_guid": "e2680210-39af-4897-ab65-f49d74d82197",
    "_uuid": "87860ad2-7997-47b4-8059-579215ecea0b",
    "collapsed": false,
    "execution": {
     "iopub.execute_input": "2022-12-14T07:53:18.743731Z",
     "iopub.status.busy": "2022-12-14T07:53:18.742981Z",
     "iopub.status.idle": "2022-12-14T07:53:18.944281Z",
     "shell.execute_reply": "2022-12-14T07:53:18.943113Z"
    },
    "jupyter": {
     "outputs_hidden": false
    },
    "papermill": {
     "duration": 0.760689,
     "end_time": "2022-12-14T07:53:18.947125",
     "exception": false,
     "start_time": "2022-12-14T07:53:18.186436",
     "status": "completed"
    },
    "tags": []
   },
   "outputs": [],
   "source": [
    "\n",
    "Test_df_predictions.to_csv(\"./output_predictions.csv\",index=False)"
   ]
  }
 ],
 "metadata": {
  "kernelspec": {
   "display_name": "Python 3",
   "language": "python",
   "name": "python3"
  },
  "language_info": {
   "codemirror_mode": {
    "name": "ipython",
    "version": 3
   },
   "file_extension": ".py",
   "mimetype": "text/x-python",
   "name": "python",
   "nbconvert_exporter": "python",
   "pygments_lexer": "ipython3",
   "version": "3.7.12"
  },
  "papermill": {
   "default_parameters": {},
   "duration": 460.639595,
   "end_time": "2022-12-14T07:53:22.878134",
   "environment_variables": {},
   "exception": null,
   "input_path": "__notebook__.ipynb",
   "output_path": "__notebook__.ipynb",
   "parameters": {},
   "start_time": "2022-12-14T07:45:42.238539",
   "version": "2.3.4"
  }
 },
 "nbformat": 4,
 "nbformat_minor": 5
}
